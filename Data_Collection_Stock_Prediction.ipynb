{
 "cells": [
  {
   "cell_type": "markdown",
   "id": "d7de0d99",
   "metadata": {},
   "source": [
    "# Stock Trend Prediction"
   ]
  },
  {
   "cell_type": "markdown",
   "id": "f2b2ecf8",
   "metadata": {},
   "source": [
    "## Pre-Processing Section"
   ]
  },
  {
   "cell_type": "markdown",
   "id": "c16c0686",
   "metadata": {},
   "source": [
    "### Downloading Datasets"
   ]
  },
  {
   "cell_type": "code",
   "execution_count": 1,
   "id": "6c0a1504",
   "metadata": {},
   "outputs": [],
   "source": [
    "import yfinance as yf #Using YAHOO FINANCE API\n",
    "import pandas as pd\n",
    "import os\n",
    "import time\n",
    "import pandas_ta as ta\n",
    "import finnhub"
   ]
  },
  {
   "cell_type": "code",
   "execution_count": 2,
   "id": "cc5fe20c",
   "metadata": {},
   "outputs": [
    {
     "name": "stdout",
     "output_type": "stream",
     "text": [
      "867\n"
     ]
    }
   ],
   "source": [
    "stock_symbols = [\n",
    "    \"AAPL\", \"MSFT\", \"GOOGL\", \"AMZN\", \"TSLA\", \"META\", \"NVDA\", \"AMD\", \"PYPL\", \"V\",\n",
    "    \"MA\", \"WMT\", \"DIS\", \"KO\", \"PEP\", \"NFLX\", \"INTC\", \"BA\", \"CSCO\", \"VZ\",\n",
    "    \"IBM\", \"WFC\", \"JPM\", \"GS\", \"C\", \"UNH\", \"HD\", \"LOW\", \"NKE\", \"MCD\",\n",
    "    \"TGT\", \"CAT\", \"AXP\", \"UPS\", \"LMT\", \"RTX\", \"BA\", \"SQ\", \"BMY\", \"PFE\",\n",
    "    \"MRK\", \"AMGN\", \"ISRG\", \"LUV\", \"UAL\", \"STZ\", \"MMM\", \"GM\", \"GE\", \"XOM\",\n",
    "    \"CVX\", \"MSCI\", \"DHR\", \"MDLZ\", \"SBUX\", \"CHTR\", \"SYY\", \"DUK\", \"MELI\",\n",
    "    \"LRCX\", \"WBA\", \"GILD\", \"SLB\", \"CVS\", \"QCOM\", \"DD\", \"BAX\", \"AMT\", \"HCA\",\n",
    "    \"MO\", \"SYK\", \"WDC\", \"ADI\", \"VRTX\", \"BIDU\", \"LPLA\", \"HUM\", \"EXC\", \"TRV\",\n",
    "    \"AON\", \"PNC\", \"CME\", \"CSX\", \"DOW\", \"FTNT\", \"TDOC\", \"COST\", \"FIS\",\n",
    "    \"ETSY\", \"REGN\", \"CTXS\", \"CTSH\", \"NDAQ\", \"FISV\", \"NSC\", \"ADM\", \"VLO\",\n",
    "    \"PSX\", \"OKE\", \"HPE\", \"BA\", \"CGC\", \"BABA\", \"BIDU\", \"JPM\", \"AMZN\", \"PYPL\",\n",
    "    \"ZTS\", \"LULU\", \"VRTX\", \"AIG\", \"PLD\", \"REIT\", \"EOG\", \"SLB\", \"EPD\", \"BAX\",\n",
    "    \"KO\", \"TRV\", \"MMC\", \"ADBE\", \"BBY\", \"CL\", \"YUM\", \"F\", \"CLX\", \"TXN\",\n",
    "    \"COP\", \"NEM\", \"FTI\", \"MMM\", \"AVGO\", \"PGR\", \"SHW\", \"KHC\", \"CVX\", \"XOM\",\n",
    "    \"NOC\", \"ABT\", \"MDT\", \"JCI\", \"SBUX\", \"KMB\", \"HOG\", \"WMT\", \"DISH\", \"TMO\",\n",
    "    \"HCA\", \"BIIB\", \"TAP\", \"STT\", \"LYV\", \"PRU\", \"RTX\", \"BA\", \"SPG\", \"SYK\",\n",
    "    \"EL\", \"MET\", \"AIG\", \"COST\", \"SYY\", \"PFE\", \"MCD\", \"MELI\", \"FDX\", \"WFC\",\n",
    "    \"CHKP\", \"ZION\", \"VMC\", \"HSY\", \"MRK\", \"RCL\", \"FCX\", \"PHM\", \"RTX\", \"NRG\",\n",
    "    \"MO\", \"OXY\", \"CME\", \"TFC\", \"EXC\", \"BABA\", \"CCL\", \"SBAC\", \"SPGI\", \"C\",\n",
    "    \"CNC\", \"MGM\", \"PEP\", \"VZ\", \"MSFT\", \"NXPI\", \"UPS\", \"LMT\", \"HSBC\", \"TRV\",\n",
    "    \"BRK.A\", \"BRK.B\", \"AMT\", \"REGN\", \"AON\", \"VNO\", \"PSA\", \"WELL\", \"BLK\", \"FTNT\",\n",
    "    \"NVAX\", \"ASML\", \"WDC\", \"CSCO\", \"STZ\", \"VTR\", \"VRTX\", \"NAVI\", \"ICE\", \"LPL\",\n",
    "    \"ROST\", \"CDW\", \"TGT\", \"XEL\", \"TMO\", \"FISV\", \"JCI\", \"TXN\", \"UAL\", \"GS\",\n",
    "    \"ZBH\", \"AAPL\", \"GOOG\", \"NFLX\", \"DIS\", \"PRGO\", \"HUM\", \"APD\", \"BASF\", \"CB\",\n",
    "    \"EQIX\", \"SPY\", \"JBLU\", \"AEP\", \"VZ\", \"PGR\", \"HCA\", \"LRCX\", \"BAX\", \"STT\",\n",
    "    \"FTI\", \"PPL\", \"EOG\", \"EQT\", \"DRI\", \"PXD\", \"FIS\", \"EXPE\", \"PEP\", \"AIG\",\n",
    "    \"MCK\", \"EQIX\", \"AMAT\", \"PNC\", \"DUK\", \"CVS\", \"AMGN\", \"BRK.B\", \"CTXS\", \"AZO\",\n",
    "    \"TGT\", \"UPS\", \"MSCI\", \"QCOM\", \"NEE\", \"GS\", \"WFC\", \"FMC\", \"TSN\", \"MPWR\",\n",
    "    \"ADP\", \"DGX\", \"VNO\", \"PFE\", \"IBB\", \"ADBE\", \"CGNX\", \"SPG\", \"PEP\", \"UNH\",\n",
    "    \"TDG\", \"AXP\", \"GPC\", \"DE\", \"IBM\", \"AVGO\", \"NEE\", \"SBUX\", \"PG\", \"BA\", \"CAT\",\n",
    "    \"MDT\", \"JPM\", \"NKE\", \"JNJ\", \"IBM\", \"MCO\", \"MET\", \"HUM\", \"VZ\", \"COF\", \"NTRS\",\n",
    "    \"ETN\", \"AXON\", \"DOW\", \"CCL\", \"SYK\", \"CI\", \"CTSH\", \"SIVB\", \"REXR\", \"KO\", \"GS\",\n",
    "    \"MMM\", \"VLO\", \"ANET\", \"ABT\", \"TMO\", \"AON\", \"REGN\", \"AAPL\", \"DE\", \"EL\", \"WMT\",\n",
    "    \"PYPL\", \"LMT\", \"NSC\", \"FB\", \"SWKS\", \"V\", \"CRWD\", \"REGN\", \"TT\", \"TSLA\", \"ZM\",\n",
    "    \"ABBV\", \"BIIB\", \"DD\", \"ACN\", \"COST\", \"NSC\", \"LULU\", \"BLK\", \"CTXS\", \"PFE\",\n",
    "    \"FIS\", \"GOOGL\", \"EXC\", \"VZ\", \"GIS\", \"ALGN\", \"QCOM\", \"LRCX\", \"PLD\", \"MTD\",\n",
    "    \"BDX\", \"SPY\", \"EXPE\", \"SYY\", \"RCL\", \"MELI\", \"PEP\", \"BIDU\", \"VZ\", \"MSFT\",\n",
    "    \"XOM\", \"GOOGL\", \"PYPL\", \"AIG\", \"JNJ\", \"BAX\", \"PFE\", \"BMY\", \"HSY\", \"SYY\",\n",
    "    \"AMZN\", \"TSLA\", \"NVDA\", \"INTC\", \"AMD\", \"MSFT\", \"AAPL\", \"PYPL\", \"V\", \"MA\",\n",
    "    \"BA\", \"WMT\", \"KO\", \"PEP\", \"NFLX\", \"DIS\", \"GOOGL\", \"XOM\", \"CVX\", \"PFE\",\n",
    "    \"BMY\", \"MRK\", \"UNH\", \"JNJ\", \"HD\", \"NKE\", \"MCD\", \"TGT\", \"GM\", \"CAT\", \n",
    "    \"BA\", \"SQ\", \"SPG\", \"RTX\", \"LMT\", \"UPS\", \"GS\", \"JPM\", \"CSCO\", \"IBM\", \n",
    "    \"WFC\", \"VZ\", \"TMO\", \"SBUX\", \"AMGN\", \"ISRG\", \"BAX\", \"LRCX\", \"BIDU\", \n",
    "    \"VRTX\", \"GILD\", \"CVS\", \"QCOM\", \"DD\", \"SYK\", \"EXC\", \"MO\", \"WDC\", \"VLO\", \n",
    "    \"PSX\", \"F\", \"GM\", \"NEM\", \"STT\", \"HUM\", \"AMT\", \"LULU\", \"AIG\", \"SLB\", \n",
    "    \"CCL\", \"VTR\", \"NOC\", \"SYY\", \"PRU\", \"JCI\", \"TT\", \"CVX\", \"CME\", \"LPL\", \n",
    "    \"NTRS\", \"PGR\", \"AON\", \"BAX\", \"MELI\", \"RCL\", \"NKE\", \"XEL\", \"BBY\", \"LPLA\", \n",
    "    \"DE\", \"MCO\", \"ADBE\", \"GS\", \"PNC\", \"COST\", \"SPY\", \"WFC\", \"BIDU\", \"AEP\", \n",
    "    \"SIVB\", \"CME\", \"KO\", \"EXPE\", \"DD\", \"AMT\", \"CCL\", \"DOW\", \"EXC\", \"ZBH\", \n",
    "    \"DHR\", \"PXD\", \"NRG\", \"MGM\", \"VNO\", \"PSA\", \"NEE\", \"AMT\", \"CHTR\", \"GS\", \n",
    "    \"ACN\", \"FISV\", \"CRWD\", \"CTSH\", \"PFE\", \"PG\", \"MMM\", \"SYY\", \"FIS\", \"SBUX\", \n",
    "    \"AON\", \"TRV\", \"VLO\", \"ZION\", \"SPGI\", \"HSY\", \"WMT\", \"MELI\", \"CVX\", \"RCL\", \n",
    "    \"BABA\", \"GE\", \"VZ\", \"FDX\", \"TRV\", \"SLB\", \"HD\", \"PGR\", \"PEP\", \"FDX\", \"BMY\", \n",
    "    \"QCOM\", \"NRG\", \"MCK\", \"REGN\", \"ALGN\", \"RTX\", \"MRK\", \"KMB\", \"AAPL\", \"GPC\", \n",
    "    \"AZO\", \"PLD\", \"ISRG\", \"BIDU\", \"SYY\", \"V\", \"LMT\", \"TXN\", \"VNO\", \"PSA\", \"XOM\", \n",
    "    \"LPL\", \"ADBE\", \"VLO\", \"CAT\", \"SBUX\", \"FMC\", \"ALXN\", \"CSX\", \"ETSY\", \"WFC\", \n",
    "    \"NKE\", \"WBA\", \"BAX\", \"COST\", \"BA\", \"TRV\", \"PYPL\", \"UNH\", \"LRCX\", \"ABBV\", \n",
    "    \"AIG\", \"FISV\", \"PXD\", \"LPL\", \"TMO\", \"MRK\", \"FIS\", \"CL\", \"KHC\", \"VZ\", \"UPS\", \n",
    "    \"CCL\", \"MCD\", \"GS\", \"GILD\", \"EOG\", \"AEP\", \"INTC\", \"EXPE\", \"BA\", \"SBUX\", \n",
    "    \"DHR\", \"VMC\", \"ZBH\", \"VLO\", \"EOG\", \"LLY\", \"SPGI\", \"WFC\", \"CRM\", \"NVDA\", \n",
    "    \"CME\", \"CVX\", \"NEM\", \"PEP\", \"LUV\", \"EXC\", \"AAPL\", \"GM\", \"ABT\", \"WBA\", \n",
    "    \"BAX\", \"RTX\", \"MSCI\", \"MGM\", \"GS\", \"JPM\", \"BA\", \"PFE\", \"MELI\", \"VLO\", \n",
    "    \"HUM\", \"SHW\", \"XOM\", \"CSCO\", \"CVS\", \"ALGN\", \"VZ\", \"WMT\", \"ABBV\", \"ADBE\", \n",
    "    \"GS\", \"MS\", \"TRV\", \"BMY\", \"ISRG\", \"UPS\", \"MCO\", \"PRGO\", \"MCK\", \"VLO\", \"NKE\",\n",
    "    \"BIDU\", \"MDLZ\", \"REGN\", \"HLT\", \"MNST\", \"SWKS\", \"COP\", \"XEL\", \"GE\", \"EXC\", \n",
    "    \"NVDA\", \"MMM\", \"TXN\", \"FISV\", \"OXY\", \"SLB\", \"SYK\", \"GILD\", \"KMB\", \"CSCO\", \n",
    "    \"BRK.B\", \"MRK\", \"HCA\", \"GM\", \"F\", \"BMY\", \"AMT\", \"TXN\", \"GPC\", \"FMC\", \n",
    "    \"HUM\", \"MCK\", \"PEP\", \"SPY\", \"CCL\", \"JNJ\", \"GS\", \"AMT\", \"FISV\", \"PG\", \n",
    "    \"OXY\", \"GILD\", \"MDT\", \"TGT\", \"SYK\", \"PFE\", \"COST\", \"AMZN\", \"VLO\", \"UPS\", \n",
    "    \"UNH\", \"NSC\", \"SLB\", \"HUM\", \"LUV\", \"NEM\", \"CVX\", \"ABT\", \"HD\", \"CME\", \n",
    "    \"MDT\", \"ALGN\", \"WFC\", \"NEE\", \"PNC\", \"GM\", \"MO\", \"BAX\", \"V\", \"CSX\", \"TXN\",\n",
    "    \"WBA\", \"ABT\", \"GS\", \"F\", \"TXN\", \"SYY\", \"TGT\", \"TMO\", \"EXC\", \"TRV\", \"PG\",\n",
    "    \"AAPL\", \"BA\", \"WMT\", \"MCD\", \"MELI\", \"KO\", \"RCL\", \"PGR\", \"FIS\", \"VLO\", \n",
    "    \"ABBV\", \"VZ\", \"PFE\", \"MS\", \"MELI\", \"INTC\", \"PEP\", \"PYPL\", \"BMY\", \"MCO\",\n",
    "    \"META\", \"NFLX\", \"BABA\", \"INTC\", \"DIS\", \"BA\", \"CSCO\", \"V\", \"PYPL\", \"VZ\",\n",
    "    \"IBM\", \"WMT\", \"PG\", \"PEP\", \"UNH\", \"MS\", \"JPM\", \"T\", \"SPG\", \"CVX\", \n",
    "    \"ABT\", \"MDT\", \"GS\", \"NKE\", \"LMT\", \"UPS\", \"CAT\", \"LOW\", \"HD\", \"AXP\", \n",
    "    \"GS\", \"WFC\", \"SQ\", \"BMY\", \"PFE\", \"MRK\", \"AMGN\", \"ISRG\", \"LUV\", \"UAL\", \n",
    "    \"STZ\", \"MMM\", \"RTX\", \"GM\", \"F\", \"MCD\", \"KO\", \"TGT\", \"PCLN\",\n",
    "    \"ORCL\", \"TMO\", \"BA\", \"ZM\", \"CGC\", \"JNJ\", \"GE\", \"XOM\", \"MSCI\", \"DHR\",\n",
    "    \"MDLZ\", \"SBUX\", \"CHTR\", \"SYY\", \"DUK\", \"MELI\", \"LRCX\", \"WBA\", \"LUV\", \n",
    "    \"MELI\", \"GILD\", \"SLB\", \"CVS\", \"QCOM\", \"DD\", \"BAX\", \"AMT\", \"HCA\", \"MO\", \n",
    "    \"SYK\", \"WDC\", \"ADI\", \"VRTX\", \"BIDU\", \"VRTX\", \"LPLA\", \"HUM\", \"EXC\", \n",
    "    \"TRV\", \"AON\", \"PNC\", \"CME\", \"CSX\", \"DOW\", \"FTNT\", \"TDOC\", \"COST\", \"FIS\", \n",
    "    \"ETSY\", \"REGN\", \"CTXS\", \"CTSH\", \"NDAQ\", \"FISV\", \"NSC\", \"ADM\", \"GM\",\n",
    "    \"VLO\", \"PSX\", \"OKE\", \"HPE\", \"MSFT\", \"NVIDIA\", \"AMZN\", \"GOOGL\", \"AAPL\", \n",
    "    \"TSLA\", \"NVDA\", \"AMD\", \"SPY\", \"QQQ\"\n",
    "]\n",
    "\n",
    "print (len(stock_symbols))"
   ]
  },
  {
   "cell_type": "code",
   "execution_count": 3,
   "id": "e447a1ce",
   "metadata": {},
   "outputs": [
    {
     "name": "stdout",
     "output_type": "stream",
     "text": [
      "234\n"
     ]
    }
   ],
   "source": [
    "stock_symbols_unique = list(set(stock_symbols))\n",
    "print (len(stock_symbols_unique))"
   ]
  },
  {
   "cell_type": "code",
   "execution_count": 37,
   "id": "8ad8d7e9",
   "metadata": {},
   "outputs": [
    {
     "name": "stderr",
     "output_type": "stream",
     "text": [
      "[*********************100%***********************]  1 of 1 completed\n"
     ]
    },
    {
     "name": "stdout",
     "output_type": "stream",
     "text": [
      "All data for CI saved to CI_Full_Data.csv\n"
     ]
    },
    {
     "name": "stderr",
     "output_type": "stream",
     "text": [
      "[*********************100%***********************]  1 of 1 completed\n"
     ]
    },
    {
     "name": "stdout",
     "output_type": "stream",
     "text": [
      "All data for AVGO saved to AVGO_Full_Data.csv\n"
     ]
    },
    {
     "name": "stderr",
     "output_type": "stream",
     "text": [
      "[*********************100%***********************]  1 of 1 completed\n"
     ]
    },
    {
     "name": "stdout",
     "output_type": "stream",
     "text": [
      "All data for TDG saved to TDG_Full_Data.csv\n"
     ]
    },
    {
     "name": "stderr",
     "output_type": "stream",
     "text": [
      "[*********************100%***********************]  1 of 1 completed\n"
     ]
    },
    {
     "name": "stdout",
     "output_type": "stream",
     "text": [
      "All data for TT saved to TT_Full_Data.csv\n"
     ]
    },
    {
     "name": "stderr",
     "output_type": "stream",
     "text": [
      "[*********************100%***********************]  1 of 1 completed\n"
     ]
    },
    {
     "name": "stdout",
     "output_type": "stream",
     "text": [
      "All data for ASML saved to ASML_Full_Data.csv\n"
     ]
    },
    {
     "name": "stderr",
     "output_type": "stream",
     "text": [
      "[*********************100%***********************]  1 of 1 completed\n"
     ]
    },
    {
     "name": "stdout",
     "output_type": "stream",
     "text": [
      "All data for WELL saved to WELL_Full_Data.csv\n"
     ]
    },
    {
     "name": "stderr",
     "output_type": "stream",
     "text": [
      "[*********************100%***********************]  1 of 1 completed\n"
     ]
    },
    {
     "name": "stdout",
     "output_type": "stream",
     "text": [
      "All data for ROST saved to ROST_Full_Data.csv\n"
     ]
    },
    {
     "name": "stderr",
     "output_type": "stream",
     "text": [
      "[*********************100%***********************]  1 of 1 completed\n"
     ]
    },
    {
     "name": "stdout",
     "output_type": "stream",
     "text": [
      "All data for GPC saved to GPC_Full_Data.csv\n"
     ]
    },
    {
     "name": "stderr",
     "output_type": "stream",
     "text": [
      "[*********************100%***********************]  1 of 1 completed\n"
     ]
    },
    {
     "name": "stdout",
     "output_type": "stream",
     "text": [
      "All data for TXN saved to TXN_Full_Data.csv\n"
     ]
    },
    {
     "name": "stderr",
     "output_type": "stream",
     "text": [
      "[*********************100%***********************]  1 of 1 completed\n"
     ]
    },
    {
     "name": "stdout",
     "output_type": "stream",
     "text": [
      "All data for NOC saved to NOC_Full_Data.csv\n"
     ]
    },
    {
     "name": "stderr",
     "output_type": "stream",
     "text": [
      "[*********************100%***********************]  1 of 1 completed\n"
     ]
    },
    {
     "name": "stdout",
     "output_type": "stream",
     "text": [
      "All data for APD saved to APD_Full_Data.csv\n"
     ]
    },
    {
     "name": "stderr",
     "output_type": "stream",
     "text": [
      "[*********************100%***********************]  1 of 1 completed\n"
     ]
    },
    {
     "name": "stdout",
     "output_type": "stream",
     "text": [
      "All data for PPL saved to PPL_Full_Data.csv\n"
     ]
    },
    {
     "name": "stderr",
     "output_type": "stream",
     "text": [
      "[*********************100%***********************]  1 of 1 completed\n"
     ]
    },
    {
     "name": "stdout",
     "output_type": "stream",
     "text": [
      "All data for MCK saved to MCK_Full_Data.csv\n"
     ]
    },
    {
     "name": "stderr",
     "output_type": "stream",
     "text": [
      "[*********************100%***********************]  1 of 1 completed\n"
     ]
    },
    {
     "name": "stdout",
     "output_type": "stream",
     "text": [
      "All data for REIT saved to REIT_Full_Data.csv\n"
     ]
    },
    {
     "name": "stderr",
     "output_type": "stream",
     "text": [
      "[*********************100%***********************]  1 of 1 completed\n"
     ]
    },
    {
     "name": "stdout",
     "output_type": "stream",
     "text": [
      "All data for PRU saved to PRU_Full_Data.csv\n"
     ]
    },
    {
     "name": "stderr",
     "output_type": "stream",
     "text": [
      "[*********************100%***********************]  1 of 1 completed\n"
     ]
    },
    {
     "name": "stdout",
     "output_type": "stream",
     "text": [
      "All data for XEL saved to XEL_Full_Data.csv\n"
     ]
    },
    {
     "name": "stderr",
     "output_type": "stream",
     "text": [
      "[*********************100%***********************]  1 of 1 completed\n"
     ]
    },
    {
     "name": "stdout",
     "output_type": "stream",
     "text": [
      "All data for ADP saved to ADP_Full_Data.csv\n"
     ]
    },
    {
     "name": "stderr",
     "output_type": "stream",
     "text": [
      "[*********************100%***********************]  1 of 1 completed\n"
     ]
    },
    {
     "name": "stdout",
     "output_type": "stream",
     "text": [
      "All data for ZION saved to ZION_Full_Data.csv\n"
     ]
    },
    {
     "name": "stderr",
     "output_type": "stream",
     "text": [
      "[*********************100%***********************]  1 of 1 completed\n"
     ]
    },
    {
     "name": "stdout",
     "output_type": "stream",
     "text": [
      "All data for FCX saved to FCX_Full_Data.csv\n"
     ]
    },
    {
     "name": "stderr",
     "output_type": "stream",
     "text": [
      "[*********************100%***********************]  1 of 1 completed\n"
     ]
    },
    {
     "name": "stdout",
     "output_type": "stream",
     "text": [
      "All data for GOOG saved to GOOG_Full_Data.csv\n"
     ]
    },
    {
     "name": "stderr",
     "output_type": "stream",
     "text": [
      "[*********************100%***********************]  1 of 1 completed\n"
     ]
    },
    {
     "name": "stdout",
     "output_type": "stream",
     "text": [
      "All data for VTR saved to VTR_Full_Data.csv\n"
     ]
    },
    {
     "name": "stderr",
     "output_type": "stream",
     "text": [
      "[*********************100%***********************]  1 of 1 completed\n"
     ]
    },
    {
     "name": "stdout",
     "output_type": "stream",
     "text": [
      "All data for GIS saved to GIS_Full_Data.csv\n"
     ]
    },
    {
     "name": "stderr",
     "output_type": "stream",
     "text": [
      "[*********************100%***********************]  1 of 1 completed\n"
     ]
    },
    {
     "name": "stdout",
     "output_type": "stream",
     "text": [
      "All data for MTD saved to MTD_Full_Data.csv\n"
     ]
    },
    {
     "name": "stderr",
     "output_type": "stream",
     "text": [
      "[*********************100%***********************]  1 of 1 completed\n"
     ]
    },
    {
     "name": "stdout",
     "output_type": "stream",
     "text": [
      "All data for ALGN saved to ALGN_Full_Data.csv\n"
     ]
    },
    {
     "name": "stderr",
     "output_type": "stream",
     "text": [
      "Failed to get ticker 'BDX' reason: HTTPSConnectionPool(host='query2.finance.yahoo.com', port=443): Read timed out. (read timeout=10)\n",
      "[*********************100%***********************]  1 of 1 completed\n",
      "\n",
      "1 Failed download:\n",
      "['BDX']: YFTzMissingError('$%ticker%: possibly delisted; no timezone found')\n"
     ]
    },
    {
     "name": "stdout",
     "output_type": "stream",
     "text": [
      "All data for BDX saved to BDX_Full_Data.csv\n"
     ]
    },
    {
     "name": "stderr",
     "output_type": "stream",
     "text": [
      "Failed to get ticker 'BASF' reason: HTTPSConnectionPool(host='query2.finance.yahoo.com', port=443): Read timed out. (read timeout=10)\n",
      "[*********************100%***********************]  1 of 1 completed\n",
      "\n",
      "1 Failed download:\n",
      "['BASF']: YFTzMissingError('$%ticker%: possibly delisted; no timezone found')\n"
     ]
    },
    {
     "name": "stdout",
     "output_type": "stream",
     "text": [
      "All data for BASF saved to BASF_Full_Data.csv\n"
     ]
    },
    {
     "name": "stderr",
     "output_type": "stream",
     "text": [
      "Failed to get ticker 'FTI' reason: HTTPSConnectionPool(host='query2.finance.yahoo.com', port=443): Max retries exceeded with url: /v8/finance/chart/FTI?range=1d&interval=1d&crumb=gCXkhUJeJJ6 (Caused by ConnectTimeoutError(<urllib3.connection.HTTPSConnection object at 0x0000023C95326940>, 'Connection to query2.finance.yahoo.com timed out. (connect timeout=10)'))\n",
      "[*********************100%***********************]  1 of 1 completed\n",
      "\n",
      "1 Failed download:\n",
      "['FTI']: YFTzMissingError('$%ticker%: possibly delisted; no timezone found')\n"
     ]
    },
    {
     "name": "stdout",
     "output_type": "stream",
     "text": [
      "All data for FTI saved to FTI_Full_Data.csv\n"
     ]
    },
    {
     "name": "stderr",
     "output_type": "stream",
     "text": [
      "[*********************100%***********************]  1 of 1 completed\n",
      "\n",
      "1 Failed download:\n",
      "['ALXN']: YFTzMissingError('$%ticker%: possibly delisted; no timezone found')\n"
     ]
    },
    {
     "name": "stdout",
     "output_type": "stream",
     "text": [
      "All data for ALXN saved to ALXN_Full_Data.csv\n"
     ]
    },
    {
     "name": "stderr",
     "output_type": "stream",
     "text": [
      "[*********************100%***********************]  1 of 1 completed\n"
     ]
    },
    {
     "name": "stdout",
     "output_type": "stream",
     "text": [
      "All data for MGM saved to MGM_Full_Data.csv\n"
     ]
    },
    {
     "name": "stderr",
     "output_type": "stream",
     "text": [
      "[*********************100%***********************]  1 of 1 completed\n"
     ]
    },
    {
     "name": "stdout",
     "output_type": "stream",
     "text": [
      "All data for ABBV saved to ABBV_Full_Data.csv\n"
     ]
    },
    {
     "name": "stderr",
     "output_type": "stream",
     "text": [
      "[*********************100%***********************]  1 of 1 completed\n"
     ]
    },
    {
     "name": "stdout",
     "output_type": "stream",
     "text": [
      "All data for KHC saved to KHC_Full_Data.csv\n"
     ]
    },
    {
     "name": "stderr",
     "output_type": "stream",
     "text": [
      "[*********************100%***********************]  1 of 1 completed\n"
     ]
    },
    {
     "name": "stdout",
     "output_type": "stream",
     "text": [
      "All data for PLD saved to PLD_Full_Data.csv\n"
     ]
    },
    {
     "name": "stderr",
     "output_type": "stream",
     "text": [
      "[*********************100%***********************]  1 of 1 completed\n"
     ]
    },
    {
     "name": "stdout",
     "output_type": "stream",
     "text": [
      "All data for ETN saved to ETN_Full_Data.csv\n"
     ]
    },
    {
     "name": "stderr",
     "output_type": "stream",
     "text": [
      "[*********************100%***********************]  1 of 1 completed\n"
     ]
    },
    {
     "name": "stdout",
     "output_type": "stream",
     "text": [
      "All data for HSBC saved to HSBC_Full_Data.csv\n"
     ]
    },
    {
     "name": "stderr",
     "output_type": "stream",
     "text": [
      "[*********************100%***********************]  1 of 1 completed\n"
     ]
    },
    {
     "name": "stdout",
     "output_type": "stream",
     "text": [
      "All data for CRWD saved to CRWD_Full_Data.csv\n"
     ]
    },
    {
     "name": "stderr",
     "output_type": "stream",
     "text": [
      "[*********************100%***********************]  1 of 1 completed\n"
     ]
    },
    {
     "name": "stdout",
     "output_type": "stream",
     "text": [
      "All data for EPD saved to EPD_Full_Data.csv\n"
     ]
    },
    {
     "name": "stderr",
     "output_type": "stream",
     "text": [
      "[*********************100%***********************]  1 of 1 completed\n"
     ]
    },
    {
     "name": "stdout",
     "output_type": "stream",
     "text": [
      "All data for ANET saved to ANET_Full_Data.csv\n"
     ]
    },
    {
     "name": "stderr",
     "output_type": "stream",
     "text": [
      "[*********************100%***********************]  1 of 1 completed\n"
     ]
    },
    {
     "name": "stdout",
     "output_type": "stream",
     "text": [
      "All data for ACN saved to ACN_Full_Data.csv\n"
     ]
    },
    {
     "name": "stderr",
     "output_type": "stream",
     "text": [
      "[*********************100%***********************]  1 of 1 completed\n"
     ]
    },
    {
     "name": "stdout",
     "output_type": "stream",
     "text": [
      "All data for LULU saved to LULU_Full_Data.csv\n"
     ]
    },
    {
     "name": "stderr",
     "output_type": "stream",
     "text": [
      "[*********************100%***********************]  1 of 1 completed\n"
     ]
    },
    {
     "name": "stdout",
     "output_type": "stream",
     "text": [
      "All data for TSN saved to TSN_Full_Data.csv\n"
     ]
    },
    {
     "name": "stderr",
     "output_type": "stream",
     "text": [
      "[*********************100%***********************]  1 of 1 completed\n"
     ]
    },
    {
     "name": "stdout",
     "output_type": "stream",
     "text": [
      "All data for CGNX saved to CGNX_Full_Data.csv\n"
     ]
    },
    {
     "name": "stderr",
     "output_type": "stream",
     "text": [
      "[*********************100%***********************]  1 of 1 completed\n"
     ]
    },
    {
     "name": "stdout",
     "output_type": "stream",
     "text": [
      "All data for EOG saved to EOG_Full_Data.csv\n"
     ]
    },
    {
     "name": "stderr",
     "output_type": "stream",
     "text": [
      "[*********************100%***********************]  1 of 1 completed\n"
     ]
    },
    {
     "name": "stdout",
     "output_type": "stream",
     "text": [
      "All data for NEM saved to NEM_Full_Data.csv\n"
     ]
    },
    {
     "name": "stderr",
     "output_type": "stream",
     "text": [
      "[*********************100%***********************]  1 of 1 completed\n",
      "\n",
      "1 Failed download:\n",
      "['TAP']: ConnectionError(ReadTimeoutError(\"HTTPSConnectionPool(host='query2.finance.yahoo.com', port=443): Read timed out.\"))\n"
     ]
    },
    {
     "name": "stdout",
     "output_type": "stream",
     "text": [
      "All data for TAP saved to TAP_Full_Data.csv\n"
     ]
    },
    {
     "name": "stderr",
     "output_type": "stream",
     "text": [
      "[*********************100%***********************]  1 of 1 completed\n",
      "\n",
      "1 Failed download:\n",
      "['PXD']: YFTzMissingError('$%ticker%: possibly delisted; no timezone found')\n"
     ]
    },
    {
     "name": "stdout",
     "output_type": "stream",
     "text": [
      "All data for PXD saved to PXD_Full_Data.csv\n"
     ]
    },
    {
     "name": "stderr",
     "output_type": "stream",
     "text": [
      "[*********************100%***********************]  1 of 1 completed\n"
     ]
    },
    {
     "name": "stdout",
     "output_type": "stream",
     "text": [
      "All data for AXON saved to AXON_Full_Data.csv\n"
     ]
    },
    {
     "name": "stderr",
     "output_type": "stream",
     "text": [
      "[*********************100%***********************]  1 of 1 completed\n"
     ]
    },
    {
     "name": "stdout",
     "output_type": "stream",
     "text": [
      "All data for HSY saved to HSY_Full_Data.csv\n"
     ]
    },
    {
     "name": "stderr",
     "output_type": "stream",
     "text": [
      "[*********************100%***********************]  1 of 1 completed\n",
      "\n",
      "1 Failed download:\n",
      "['DISH']: YFTzMissingError('$%ticker%: possibly delisted; no timezone found')\n"
     ]
    },
    {
     "name": "stdout",
     "output_type": "stream",
     "text": [
      "All data for DISH saved to DISH_Full_Data.csv\n"
     ]
    },
    {
     "name": "stderr",
     "output_type": "stream",
     "text": [
      "[*********************100%***********************]  1 of 1 completed\n"
     ]
    },
    {
     "name": "stdout",
     "output_type": "stream",
     "text": [
      "All data for MCO saved to MCO_Full_Data.csv\n"
     ]
    },
    {
     "name": "stderr",
     "output_type": "stream",
     "text": [
      "[*********************100%***********************]  1 of 1 completed\n"
     ]
    },
    {
     "name": "stdout",
     "output_type": "stream",
     "text": [
      "All data for CHKP saved to CHKP_Full_Data.csv\n"
     ]
    },
    {
     "name": "stderr",
     "output_type": "stream",
     "text": [
      "[*********************100%***********************]  1 of 1 completed\n"
     ]
    },
    {
     "name": "stdout",
     "output_type": "stream",
     "text": [
      "All data for EXPE saved to EXPE_Full_Data.csv\n"
     ]
    },
    {
     "name": "stderr",
     "output_type": "stream",
     "text": [
      "[*********************100%***********************]  1 of 1 completed\n"
     ]
    },
    {
     "name": "stdout",
     "output_type": "stream",
     "text": [
      "All data for EL saved to EL_Full_Data.csv\n"
     ]
    },
    {
     "name": "stderr",
     "output_type": "stream",
     "text": [
      "[*********************100%***********************]  1 of 1 completed\n"
     ]
    },
    {
     "name": "stdout",
     "output_type": "stream",
     "text": [
      "All data for FMC saved to FMC_Full_Data.csv\n"
     ]
    },
    {
     "name": "stderr",
     "output_type": "stream",
     "text": [
      "[*********************100%***********************]  1 of 1 completed\n"
     ]
    },
    {
     "name": "stdout",
     "output_type": "stream",
     "text": [
      "All data for RCL saved to RCL_Full_Data.csv\n"
     ]
    },
    {
     "name": "stderr",
     "output_type": "stream",
     "text": [
      "[*********************100%***********************]  1 of 1 completed\n"
     ]
    },
    {
     "name": "stdout",
     "output_type": "stream",
     "text": [
      "All data for ADBE saved to ADBE_Full_Data.csv\n"
     ]
    },
    {
     "name": "stderr",
     "output_type": "stream",
     "text": [
      "[*********************100%***********************]  1 of 1 completed\n"
     ]
    },
    {
     "name": "stdout",
     "output_type": "stream",
     "text": [
      "All data for REXR saved to REXR_Full_Data.csv\n"
     ]
    },
    {
     "name": "stderr",
     "output_type": "stream",
     "text": [
      "[*********************100%***********************]  1 of 1 completed\n"
     ]
    },
    {
     "name": "stdout",
     "output_type": "stream",
     "text": [
      "All data for PHM saved to PHM_Full_Data.csv\n"
     ]
    },
    {
     "name": "stderr",
     "output_type": "stream",
     "text": [
      "[*********************100%***********************]  1 of 1 completed\n"
     ]
    },
    {
     "name": "stdout",
     "output_type": "stream",
     "text": [
      "All data for PSA saved to PSA_Full_Data.csv\n"
     ]
    },
    {
     "name": "stderr",
     "output_type": "stream",
     "text": [
      "[*********************100%***********************]  1 of 1 completed\n"
     ]
    },
    {
     "name": "stdout",
     "output_type": "stream",
     "text": [
      "All data for MET saved to MET_Full_Data.csv\n"
     ]
    },
    {
     "name": "stderr",
     "output_type": "stream",
     "text": [
      "[*********************100%***********************]  1 of 1 completed\n"
     ]
    },
    {
     "name": "stdout",
     "output_type": "stream",
     "text": [
      "All data for EQT saved to EQT_Full_Data.csv\n"
     ]
    },
    {
     "name": "stderr",
     "output_type": "stream",
     "text": [
      "[*********************100%***********************]  1 of 1 completed\n"
     ]
    },
    {
     "name": "stdout",
     "output_type": "stream",
     "text": [
      "All data for HOG saved to HOG_Full_Data.csv\n"
     ]
    },
    {
     "name": "stderr",
     "output_type": "stream",
     "text": [
      "[*********************100%***********************]  1 of 1 completed\n"
     ]
    },
    {
     "name": "stdout",
     "output_type": "stream",
     "text": [
      "All data for CDW saved to CDW_Full_Data.csv\n"
     ]
    },
    {
     "name": "stderr",
     "output_type": "stream",
     "text": [
      "[*********************100%***********************]  1 of 1 completed\n",
      "\n",
      "1 Failed download:\n",
      "['BRK.A']: YFTzMissingError('$%ticker%: possibly delisted; no timezone found')\n"
     ]
    },
    {
     "name": "stdout",
     "output_type": "stream",
     "text": [
      "All data for BRK.A saved to BRK.A_Full_Data.csv\n"
     ]
    },
    {
     "name": "stderr",
     "output_type": "stream",
     "text": [
      "[*********************100%***********************]  1 of 1 completed\n"
     ]
    },
    {
     "name": "stdout",
     "output_type": "stream",
     "text": [
      "All data for VNO saved to VNO_Full_Data.csv\n"
     ]
    },
    {
     "name": "stderr",
     "output_type": "stream",
     "text": [
      "[*********************100%***********************]  1 of 1 completed\n"
     ]
    },
    {
     "name": "stdout",
     "output_type": "stream",
     "text": [
      "All data for CRM saved to CRM_Full_Data.csv\n"
     ]
    },
    {
     "name": "stderr",
     "output_type": "stream",
     "text": [
      "[*********************100%***********************]  1 of 1 completed\n"
     ]
    },
    {
     "name": "stdout",
     "output_type": "stream",
     "text": [
      "All data for DE saved to DE_Full_Data.csv\n"
     ]
    },
    {
     "name": "stderr",
     "output_type": "stream",
     "text": [
      "[*********************100%***********************]  1 of 1 completed\n"
     ]
    },
    {
     "name": "stdout",
     "output_type": "stream",
     "text": [
      "All data for NRG saved to NRG_Full_Data.csv\n"
     ]
    },
    {
     "name": "stderr",
     "output_type": "stream",
     "text": [
      "[*********************100%***********************]  1 of 1 completed\n"
     ]
    },
    {
     "name": "stdout",
     "output_type": "stream",
     "text": [
      "All data for CNC saved to CNC_Full_Data.csv\n"
     ]
    },
    {
     "name": "stderr",
     "output_type": "stream",
     "text": [
      "[*********************100%***********************]  1 of 1 completed\n"
     ]
    },
    {
     "name": "stdout",
     "output_type": "stream",
     "text": [
      "All data for ICE saved to ICE_Full_Data.csv\n"
     ]
    },
    {
     "name": "stderr",
     "output_type": "stream",
     "text": [
      "[*********************100%***********************]  1 of 1 completed\n"
     ]
    },
    {
     "name": "stdout",
     "output_type": "stream",
     "text": [
      "All data for NXPI saved to NXPI_Full_Data.csv\n"
     ]
    },
    {
     "name": "stderr",
     "output_type": "stream",
     "text": [
      "[*********************100%***********************]  1 of 1 completed\n"
     ]
    },
    {
     "name": "stdout",
     "output_type": "stream",
     "text": [
      "All data for BIIB saved to BIIB_Full_Data.csv\n"
     ]
    },
    {
     "name": "stderr",
     "output_type": "stream",
     "text": [
      "[*********************100%***********************]  1 of 1 completed\n"
     ]
    },
    {
     "name": "stdout",
     "output_type": "stream",
     "text": [
      "All data for HLT saved to HLT_Full_Data.csv\n"
     ]
    },
    {
     "name": "stderr",
     "output_type": "stream",
     "text": [
      "[*********************100%***********************]  1 of 1 completed\n"
     ]
    },
    {
     "name": "stdout",
     "output_type": "stream",
     "text": [
      "All data for IBB saved to IBB_Full_Data.csv\n"
     ]
    },
    {
     "name": "stderr",
     "output_type": "stream",
     "text": [
      "[*********************100%***********************]  1 of 1 completed\n"
     ]
    },
    {
     "name": "stdout",
     "output_type": "stream",
     "text": [
      "All data for SWKS saved to SWKS_Full_Data.csv\n"
     ]
    },
    {
     "name": "stderr",
     "output_type": "stream",
     "text": [
      "[*********************100%***********************]  1 of 1 completed\n"
     ]
    },
    {
     "name": "stdout",
     "output_type": "stream",
     "text": [
      "All data for CB saved to CB_Full_Data.csv\n"
     ]
    },
    {
     "name": "stderr",
     "output_type": "stream",
     "text": [
      "[*********************100%***********************]  1 of 1 completed\n"
     ]
    },
    {
     "name": "stdout",
     "output_type": "stream",
     "text": [
      "All data for FDX saved to FDX_Full_Data.csv\n"
     ]
    },
    {
     "name": "stderr",
     "output_type": "stream",
     "text": [
      "[*********************100%***********************]  1 of 1 completed\n"
     ]
    },
    {
     "name": "stdout",
     "output_type": "stream",
     "text": [
      "All data for LLY saved to LLY_Full_Data.csv\n"
     ]
    },
    {
     "name": "stderr",
     "output_type": "stream",
     "text": [
      "[*********************100%***********************]  1 of 1 completed\n",
      "\n",
      "1 Failed download:\n",
      "['FB']: YFTzMissingError('$%ticker%: possibly delisted; no timezone found')\n"
     ]
    },
    {
     "name": "stdout",
     "output_type": "stream",
     "text": [
      "All data for FB saved to FB_Full_Data.csv\n"
     ]
    },
    {
     "name": "stderr",
     "output_type": "stream",
     "text": [
      "[*********************100%***********************]  1 of 1 completed\n"
     ]
    },
    {
     "name": "stdout",
     "output_type": "stream",
     "text": [
      "All data for PRGO saved to PRGO_Full_Data.csv\n"
     ]
    },
    {
     "name": "stderr",
     "output_type": "stream",
     "text": [
      "[*********************100%***********************]  1 of 1 completed\n"
     ]
    },
    {
     "name": "stdout",
     "output_type": "stream",
     "text": [
      "All data for COP saved to COP_Full_Data.csv\n"
     ]
    },
    {
     "name": "stderr",
     "output_type": "stream",
     "text": [
      "[*********************100%***********************]  1 of 1 completed\n"
     ]
    },
    {
     "name": "stdout",
     "output_type": "stream",
     "text": [
      "All data for AIG saved to AIG_Full_Data.csv\n"
     ]
    },
    {
     "name": "stderr",
     "output_type": "stream",
     "text": [
      "[*********************100%***********************]  1 of 1 completed\n"
     ]
    },
    {
     "name": "stdout",
     "output_type": "stream",
     "text": [
      "All data for SHW saved to SHW_Full_Data.csv\n"
     ]
    },
    {
     "name": "stderr",
     "output_type": "stream",
     "text": [
      "[*********************100%***********************]  1 of 1 completed\n"
     ]
    },
    {
     "name": "stdout",
     "output_type": "stream",
     "text": [
      "All data for PGR saved to PGR_Full_Data.csv\n"
     ]
    },
    {
     "name": "stderr",
     "output_type": "stream",
     "text": [
      "[*********************100%***********************]  1 of 1 completed\n"
     ]
    },
    {
     "name": "stdout",
     "output_type": "stream",
     "text": [
      "All data for MNST saved to MNST_Full_Data.csv\n"
     ]
    },
    {
     "name": "stderr",
     "output_type": "stream",
     "text": [
      "[*********************100%***********************]  1 of 1 completed\n"
     ]
    },
    {
     "name": "stdout",
     "output_type": "stream",
     "text": [
      "All data for NVAX saved to NVAX_Full_Data.csv\n"
     ]
    },
    {
     "name": "stderr",
     "output_type": "stream",
     "text": [
      "[*********************100%***********************]  1 of 1 completed\n"
     ]
    },
    {
     "name": "stdout",
     "output_type": "stream",
     "text": [
      "All data for KMB saved to KMB_Full_Data.csv\n"
     ]
    },
    {
     "name": "stderr",
     "output_type": "stream",
     "text": [
      "[*********************100%***********************]  1 of 1 completed\n"
     ]
    },
    {
     "name": "stdout",
     "output_type": "stream",
     "text": [
      "All data for YUM saved to YUM_Full_Data.csv\n"
     ]
    },
    {
     "name": "stderr",
     "output_type": "stream",
     "text": [
      "[*********************100%***********************]  1 of 1 completed\n",
      "\n",
      "1 Failed download:\n",
      "['SIVB']: YFTzMissingError('$%ticker%: possibly delisted; no timezone found')\n"
     ]
    },
    {
     "name": "stdout",
     "output_type": "stream",
     "text": [
      "All data for SIVB saved to SIVB_Full_Data.csv\n"
     ]
    },
    {
     "name": "stderr",
     "output_type": "stream",
     "text": [
      "[*********************100%***********************]  1 of 1 completed\n"
     ]
    },
    {
     "name": "stdout",
     "output_type": "stream",
     "text": [
      "All data for VMC saved to VMC_Full_Data.csv\n"
     ]
    },
    {
     "name": "stderr",
     "output_type": "stream",
     "text": [
      "[*********************100%***********************]  1 of 1 completed\n"
     ]
    },
    {
     "name": "stdout",
     "output_type": "stream",
     "text": [
      "All data for AMAT saved to AMAT_Full_Data.csv\n"
     ]
    },
    {
     "name": "stderr",
     "output_type": "stream",
     "text": [
      "[*********************100%***********************]  1 of 1 completed\n"
     ]
    },
    {
     "name": "stdout",
     "output_type": "stream",
     "text": [
      "All data for STT saved to STT_Full_Data.csv\n"
     ]
    },
    {
     "name": "stderr",
     "output_type": "stream",
     "text": [
      "[*********************100%***********************]  1 of 1 completed\n"
     ]
    },
    {
     "name": "stdout",
     "output_type": "stream",
     "text": [
      "All data for JCI saved to JCI_Full_Data.csv\n"
     ]
    },
    {
     "name": "stderr",
     "output_type": "stream",
     "text": [
      "[*********************100%***********************]  1 of 1 completed\n"
     ]
    },
    {
     "name": "stdout",
     "output_type": "stream",
     "text": [
      "All data for NTRS saved to NTRS_Full_Data.csv\n"
     ]
    },
    {
     "name": "stderr",
     "output_type": "stream",
     "text": [
      "[*********************100%***********************]  1 of 1 completed\n"
     ]
    },
    {
     "name": "stdout",
     "output_type": "stream",
     "text": [
      "All data for LPL saved to LPL_Full_Data.csv\n"
     ]
    },
    {
     "name": "stderr",
     "output_type": "stream",
     "text": [
      "[*********************100%***********************]  1 of 1 completed\n"
     ]
    },
    {
     "name": "stdout",
     "output_type": "stream",
     "text": [
      "All data for ZBH saved to ZBH_Full_Data.csv\n"
     ]
    },
    {
     "name": "stderr",
     "output_type": "stream",
     "text": [
      "[*********************100%***********************]  1 of 1 completed\n"
     ]
    },
    {
     "name": "stdout",
     "output_type": "stream",
     "text": [
      "All data for COF saved to COF_Full_Data.csv\n"
     ]
    },
    {
     "name": "stderr",
     "output_type": "stream",
     "text": [
      "[*********************100%***********************]  1 of 1 completed\n"
     ]
    },
    {
     "name": "stdout",
     "output_type": "stream",
     "text": [
      "All data for CCL saved to CCL_Full_Data.csv\n"
     ]
    },
    {
     "name": "stderr",
     "output_type": "stream",
     "text": [
      "[*********************100%***********************]  1 of 1 completed\n"
     ]
    },
    {
     "name": "stdout",
     "output_type": "stream",
     "text": [
      "All data for ZTS saved to ZTS_Full_Data.csv\n"
     ]
    },
    {
     "name": "stderr",
     "output_type": "stream",
     "text": [
      "[*********************100%***********************]  1 of 1 completed\n"
     ]
    },
    {
     "name": "stdout",
     "output_type": "stream",
     "text": [
      "All data for LYV saved to LYV_Full_Data.csv\n"
     ]
    },
    {
     "name": "stderr",
     "output_type": "stream",
     "text": [
      "[*********************100%***********************]  1 of 1 completed\n",
      "\n",
      "1 Failed download:\n",
      "['BRK.B']: YFTzMissingError('$%ticker%: possibly delisted; no timezone found')\n"
     ]
    },
    {
     "name": "stdout",
     "output_type": "stream",
     "text": [
      "All data for BRK.B saved to BRK.B_Full_Data.csv\n"
     ]
    },
    {
     "name": "stderr",
     "output_type": "stream",
     "text": [
      "[*********************100%***********************]  1 of 1 completed\n"
     ]
    },
    {
     "name": "stdout",
     "output_type": "stream",
     "text": [
      "All data for MMC saved to MMC_Full_Data.csv\n"
     ]
    },
    {
     "name": "stderr",
     "output_type": "stream",
     "text": [
      "[*********************100%***********************]  1 of 1 completed\n"
     ]
    },
    {
     "name": "stdout",
     "output_type": "stream",
     "text": [
      "All data for SBAC saved to SBAC_Full_Data.csv\n"
     ]
    },
    {
     "name": "stderr",
     "output_type": "stream",
     "text": [
      "[*********************100%***********************]  1 of 1 completed\n"
     ]
    },
    {
     "name": "stdout",
     "output_type": "stream",
     "text": [
      "All data for DGX saved to DGX_Full_Data.csv\n"
     ]
    },
    {
     "name": "stderr",
     "output_type": "stream",
     "text": [
      "[*********************100%***********************]  1 of 1 completed\n"
     ]
    },
    {
     "name": "stdout",
     "output_type": "stream",
     "text": [
      "All data for OXY saved to OXY_Full_Data.csv\n"
     ]
    },
    {
     "name": "stderr",
     "output_type": "stream",
     "text": [
      "[*********************100%***********************]  1 of 1 completed\n"
     ]
    },
    {
     "name": "stdout",
     "output_type": "stream",
     "text": [
      "All data for CLX saved to CLX_Full_Data.csv\n"
     ]
    },
    {
     "name": "stderr",
     "output_type": "stream",
     "text": [
      "[*********************100%***********************]  1 of 1 completed\n"
     ]
    },
    {
     "name": "stdout",
     "output_type": "stream",
     "text": [
      "All data for SPGI saved to SPGI_Full_Data.csv\n"
     ]
    },
    {
     "name": "stderr",
     "output_type": "stream",
     "text": [
      "[*********************100%***********************]  1 of 1 completed\n"
     ]
    },
    {
     "name": "stdout",
     "output_type": "stream",
     "text": [
      "All data for EQIX saved to EQIX_Full_Data.csv\n"
     ]
    },
    {
     "name": "stderr",
     "output_type": "stream",
     "text": [
      "[*********************100%***********************]  1 of 1 completed\n"
     ]
    },
    {
     "name": "stdout",
     "output_type": "stream",
     "text": [
      "All data for BBY saved to BBY_Full_Data.csv\n"
     ]
    },
    {
     "name": "stderr",
     "output_type": "stream",
     "text": [
      "[*********************100%***********************]  1 of 1 completed\n"
     ]
    },
    {
     "name": "stdout",
     "output_type": "stream",
     "text": [
      "All data for DRI saved to DRI_Full_Data.csv\n"
     ]
    },
    {
     "name": "stderr",
     "output_type": "stream",
     "text": [
      "[*********************100%***********************]  1 of 1 completed\n"
     ]
    },
    {
     "name": "stdout",
     "output_type": "stream",
     "text": [
      "All data for TFC saved to TFC_Full_Data.csv\n"
     ]
    },
    {
     "name": "stderr",
     "output_type": "stream",
     "text": [
      "[*********************100%***********************]  1 of 1 completed\n"
     ]
    },
    {
     "name": "stdout",
     "output_type": "stream",
     "text": [
      "All data for JBLU saved to JBLU_Full_Data.csv\n"
     ]
    },
    {
     "name": "stderr",
     "output_type": "stream",
     "text": [
      "[*********************100%***********************]  1 of 1 completed\n"
     ]
    },
    {
     "name": "stdout",
     "output_type": "stream",
     "text": [
      "All data for BLK saved to BLK_Full_Data.csv\n"
     ]
    },
    {
     "name": "stderr",
     "output_type": "stream",
     "text": [
      "[*********************100%***********************]  1 of 1 completed\n"
     ]
    },
    {
     "name": "stdout",
     "output_type": "stream",
     "text": [
      "All data for MA saved to MA_Full_Data.csv\n"
     ]
    },
    {
     "name": "stderr",
     "output_type": "stream",
     "text": [
      "[*********************100%***********************]  1 of 1 completed\n"
     ]
    },
    {
     "name": "stdout",
     "output_type": "stream",
     "text": [
      "All data for NAVI saved to NAVI_Full_Data.csv\n"
     ]
    },
    {
     "name": "stderr",
     "output_type": "stream",
     "text": [
      "[*********************100%***********************]  1 of 1 completed\n"
     ]
    },
    {
     "name": "stdout",
     "output_type": "stream",
     "text": [
      "All data for CL saved to CL_Full_Data.csv\n"
     ]
    },
    {
     "name": "stderr",
     "output_type": "stream",
     "text": [
      "[*********************100%***********************]  1 of 1 completed\n"
     ]
    },
    {
     "name": "stdout",
     "output_type": "stream",
     "text": [
      "All data for C saved to C_Full_Data.csv\n"
     ]
    },
    {
     "name": "stderr",
     "output_type": "stream",
     "text": [
      "[*********************100%***********************]  1 of 1 completed\n"
     ]
    },
    {
     "name": "stdout",
     "output_type": "stream",
     "text": [
      "All data for AZO saved to AZO_Full_Data.csv\n"
     ]
    },
    {
     "name": "stderr",
     "output_type": "stream",
     "text": [
      "[*********************100%***********************]  1 of 1 completed\n"
     ]
    },
    {
     "name": "stdout",
     "output_type": "stream",
     "text": [
      "All data for MPWR saved to MPWR_Full_Data.csv\n"
     ]
    },
    {
     "name": "stderr",
     "output_type": "stream",
     "text": [
      "[*********************100%***********************]  1 of 1 completed\n"
     ]
    },
    {
     "name": "stdout",
     "output_type": "stream",
     "text": [
      "All data for AEP saved to AEP_Full_Data.csv\n"
     ]
    },
    {
     "name": "stderr",
     "output_type": "stream",
     "text": [
      "[*********************100%***********************]  1 of 1 completed\n"
     ]
    },
    {
     "name": "stdout",
     "output_type": "stream",
     "text": [
      "All data for NEE saved to NEE_Full_Data.csv\n"
     ]
    }
   ],
   "source": [
    "for symbol in stock_symbols_unique:\n",
    "    # Fetch historical data\n",
    "    data = yf.download(symbol, period=\"max\") # FOR OHLC MARKET DATA\n",
    "\n",
    "    # Save all the data to a CSV file\n",
    "    file_name = f\"{symbol}_Full_Data.csv\"\n",
    "    data.to_csv(file_name)\n",
    "\n",
    "    print(f\"Market data for {symbol} saved to {file_name}\")\n",
    "\n",
    "    # Sleep to avoid hitting API rate limits\n",
    "    time.sleep(2)  # Adjust as needed based on request frequency"
   ]
  },
  {
   "cell_type": "markdown",
   "id": "ec06627b",
   "metadata": {},
   "source": [
    "## Combining all the downloaded Data into Readable"
   ]
  },
  {
   "cell_type": "code",
   "execution_count": 46,
   "id": "8084efb2",
   "metadata": {},
   "outputs": [
    {
     "name": "stdout",
     "output_type": "stream",
     "text": [
      "All files processed and combined into 'combined_processed_data.csv'\n"
     ]
    }
   ],
   "source": [
    "directory_path = \"D:\\\\01. Masters (CS)\\\\09. Thesis-I\\\\Dataset\\\\Dataset_OHLCV\"\n",
    "\n",
    "# Initialize an empty list to hold the DataFrames\n",
    "all_dataframes = []\n",
    "\n",
    "# Iterate through all files in the directory\n",
    "for filename in os.listdir(directory_path):\n",
    "    # Check if the file is a CSV file\n",
    "    if filename.endswith('.csv'):\n",
    "        file_path = os.path.join(directory_path, filename)\n",
    "\n",
    "        # Extract the part of the filename before the first '_'\n",
    "        new_column_value = filename.split('_')[0]\n",
    "\n",
    "        # Read the CSV file, skipping the 1st, 2nd and 3rd lines\n",
    "        df = pd.read_csv(file_path, skiprows=[0, 1, 2], header=None)\n",
    "\n",
    "        # Add the new column with the filename part\n",
    "        #df['Symbol'] = new_column_value\n",
    "        df.insert(len(df.columns), \"\", new_column_value)\n",
    "\n",
    "        # Append the processed DataFrame to the list\n",
    "        all_dataframes.append(df)\n",
    "\n",
    "# Concatenate all DataFrames into a single DataFrame\n",
    "combined_df = pd.concat(all_dataframes, ignore_index=True)\n",
    "\n",
    "headers = [ \"Date\", \"Close\", \"High\", \"Low\", \"Open\", \"Volume\", \"Symbol\"]\n",
    "combined_df.columns = headers"
   ]
  },
  {
   "cell_type": "code",
   "execution_count": 5,
   "id": "7c91ebc8",
   "metadata": {},
   "outputs": [
    {
     "ename": "NameError",
     "evalue": "name 'combined_df' is not defined",
     "output_type": "error",
     "traceback": [
      "\u001b[1;31m---------------------------------------------------------------------------\u001b[0m",
      "\u001b[1;31mNameError\u001b[0m                                 Traceback (most recent call last)",
      "\u001b[1;32m<ipython-input-5-1eb8555f095f>\u001b[0m in \u001b[0;36m<module>\u001b[1;34m\u001b[0m\n\u001b[0;32m      1\u001b[0m \u001b[1;31m# Save the combined DataFrame to a new CSV file\u001b[0m\u001b[1;33m\u001b[0m\u001b[1;33m\u001b[0m\u001b[1;33m\u001b[0m\u001b[0m\n\u001b[1;32m----> 2\u001b[1;33m \u001b[0mcombined_df\u001b[0m\u001b[1;33m.\u001b[0m\u001b[0mto_csv\u001b[0m\u001b[1;33m(\u001b[0m\u001b[1;34m'processed_data.csv'\u001b[0m\u001b[1;33m,\u001b[0m \u001b[0mindex\u001b[0m\u001b[1;33m=\u001b[0m\u001b[1;32mFalse\u001b[0m\u001b[1;33m)\u001b[0m\u001b[1;33m\u001b[0m\u001b[1;33m\u001b[0m\u001b[0m\n\u001b[0m\u001b[0;32m      3\u001b[0m \u001b[1;33m\u001b[0m\u001b[0m\n\u001b[0;32m      4\u001b[0m \u001b[0mprint\u001b[0m\u001b[1;33m(\u001b[0m\u001b[1;34m\"All files processed and combined into 'combined_processed_data.csv'\"\u001b[0m\u001b[1;33m)\u001b[0m\u001b[1;33m\u001b[0m\u001b[1;33m\u001b[0m\u001b[0m\n",
      "\u001b[1;31mNameError\u001b[0m: name 'combined_df' is not defined"
     ]
    }
   ],
   "source": [
    "# Save the combined DataFrame to a new CSV file\n",
    "combined_df.to_csv('processed_data.csv', index=False)\n",
    "\n",
    "print(\"All files processed and combined into 'combined_processed_data.csv'\")"
   ]
  },
  {
   "cell_type": "code",
   "execution_count": 5,
   "id": "c0513e3d",
   "metadata": {},
   "outputs": [],
   "source": [
    "df = pd.read_csv('processed_data.csv')"
   ]
  },
  {
   "cell_type": "markdown",
   "id": "632191ff",
   "metadata": {},
   "source": [
    "## Removing all the 0 or missing valued records"
   ]
  },
  {
   "cell_type": "code",
   "execution_count": 6,
   "id": "5bff97f9",
   "metadata": {},
   "outputs": [],
   "source": [
    "def print_summary(data):\n",
    "    data = data[(df != 0).all(axis=1)]\n",
    "\n",
    "    # Print the cleaned DataFrame\n",
    "    print(data.info())\n",
    "\n",
    "    print(data.describe())\n",
    "\n",
    "    # Check for NaN values\n",
    "    nan_summary = data.isna().sum()\n",
    "\n",
    "    # Check for zeros\n",
    "    zero_summary = (data == 0).sum()\n",
    "\n",
    "    # Check for negative values\n",
    "    #negative_summary = (df < 0).sum()\n",
    "\n",
    "    # Combine into a single DataFrame\n",
    "    summary = pd.DataFrame({\n",
    "        'NaN Count': nan_summary,\n",
    "        'Zero Count': zero_summary\n",
    "    })\n",
    "\n",
    "    print(summary)"
   ]
  },
  {
   "cell_type": "code",
   "execution_count": 7,
   "id": "1e0da8fd",
   "metadata": {},
   "outputs": [
    {
     "name": "stdout",
     "output_type": "stream",
     "text": [
      "<class 'pandas.core.frame.DataFrame'>\n",
      "Index: 1849177 entries, 0 to 1964327\n",
      "Data columns (total 7 columns):\n",
      " #   Column  Dtype  \n",
      "---  ------  -----  \n",
      " 0   Date    object \n",
      " 1   Close   float64\n",
      " 2   High    float64\n",
      " 3   Low     float64\n",
      " 4   Open    float64\n",
      " 5   Volume  int64  \n",
      " 6   Symbol  object \n",
      "dtypes: float64(4), int64(1), object(2)\n",
      "memory usage: 112.9+ MB\n",
      "None\n",
      "              Close          High           Low          Open        Volume\n",
      "count  1.849177e+06  1.849177e+06  1.849177e+06  1.849177e+06  1.849177e+06\n",
      "mean   5.401864e+01  5.463935e+01  5.337107e+01  5.401535e+01  1.191074e+07\n",
      "std    1.175005e+02  1.188268e+02  1.161089e+02  1.175004e+02  6.086755e+07\n",
      "min    2.838714e-03  2.838714e-03  2.616871e-03  2.838712e-03  1.000000e+01\n",
      "25%    5.318535e+00  5.386972e+00  5.248097e+00  5.317194e+00  1.019400e+06\n",
      "50%    2.075982e+01  2.102801e+01  2.047482e+01  2.075615e+01  2.609102e+06\n",
      "75%    5.411221e+01  5.470500e+01  5.350000e+01  5.410588e+01  6.559000e+06\n",
      "max    3.370270e+03  3.416710e+03  3.345440e+03  3.369000e+03  9.230856e+09\n",
      "        NaN Count  Zero Count\n",
      "Date            0           0\n",
      "Close           0           0\n",
      "High            0           0\n",
      "Low             0           0\n",
      "Open            0           0\n",
      "Volume          0           0\n",
      "Symbol          0           0\n"
     ]
    }
   ],
   "source": [
    "# Remove rows where any column has a 0\n",
    "print_summary(df)"
   ]
  },
  {
   "cell_type": "markdown",
   "id": "1e552cb5",
   "metadata": {},
   "source": [
    "## Calculating Indicators for Technical Analysis"
   ]
  },
  {
   "cell_type": "code",
   "execution_count": 8,
   "id": "feb6c2c1",
   "metadata": {},
   "outputs": [],
   "source": [
    "def calculate_indicators(group):\n",
    "    # Calculate Simple Moving Average (SMA)\n",
    "    group['SMA'] = ta.sma(group['Close'], length=14)\n",
    "    \n",
    "    # Calculate Relative Strength Index (RSI)\n",
    "    group['RSI'] = ta.rsi(group['Close'], length=14)\n",
    "    \n",
    "    # Calculate MACD\n",
    "    macd = ta.macd(group['Close'], fast=12, slow=26, signal=9)\n",
    "    group['MACD'] = macd['MACD_12_26_9']\n",
    "    group['MACD_signal'] = macd['MACDs_12_26_9']\n",
    "    group['MACD_hist'] = macd['MACDh_12_26_9']\n",
    "    \n",
    "    return group"
   ]
  },
  {
   "cell_type": "code",
   "execution_count": 9,
   "id": "8913c821",
   "metadata": {},
   "outputs": [],
   "source": [
    "df_with_indicators = df.groupby('Symbol', group_keys=False).apply(calculate_indicators)"
   ]
  },
  {
   "cell_type": "code",
   "execution_count": 10,
   "id": "456f71e4",
   "metadata": {},
   "outputs": [
    {
     "name": "stdout",
     "output_type": "stream",
     "text": [
      "<class 'pandas.core.frame.DataFrame'>\n",
      "Index: 1849177 entries, 0 to 1964327\n",
      "Data columns (total 12 columns):\n",
      " #   Column       Dtype  \n",
      "---  ------       -----  \n",
      " 0   Date         object \n",
      " 1   Close        float64\n",
      " 2   High         float64\n",
      " 3   Low          float64\n",
      " 4   Open         float64\n",
      " 5   Volume       int64  \n",
      " 6   Symbol       object \n",
      " 7   SMA          float64\n",
      " 8   RSI          float64\n",
      " 9   MACD         float64\n",
      " 10  MACD_signal  float64\n",
      " 11  MACD_hist    float64\n",
      "dtypes: float64(9), int64(1), object(2)\n",
      "memory usage: 183.4+ MB\n",
      "None\n",
      "              Close          High           Low          Open        Volume  \\\n",
      "count  1.849177e+06  1.849177e+06  1.849177e+06  1.849177e+06  1.849177e+06   \n",
      "mean   5.401864e+01  5.463935e+01  5.337107e+01  5.401535e+01  1.191074e+07   \n",
      "std    1.175005e+02  1.188268e+02  1.161089e+02  1.175004e+02  6.086755e+07   \n",
      "min    2.838714e-03  2.838714e-03  2.616871e-03  2.838712e-03  1.000000e+01   \n",
      "25%    5.318535e+00  5.386972e+00  5.248097e+00  5.317194e+00  1.019400e+06   \n",
      "50%    2.075982e+01  2.102801e+01  2.047482e+01  2.075615e+01  2.609102e+06   \n",
      "75%    5.411221e+01  5.470500e+01  5.350000e+01  5.410588e+01  6.559000e+06   \n",
      "max    3.370270e+03  3.416710e+03  3.345440e+03  3.369000e+03  9.230856e+09   \n",
      "\n",
      "                SMA           RSI          MACD   MACD_signal     MACD_hist  \n",
      "count  1.847246e+06  1.847091e+06  1.845451e+06  1.844253e+06  1.844253e+06  \n",
      "mean   5.389047e+01  5.262264e+01  1.857704e-01  1.862116e-01 -3.187882e-04  \n",
      "std    1.170656e+02  1.201246e+01  2.705550e+00  2.533098e+00  8.392384e-01  \n",
      "min    3.193709e-03  0.000000e+00 -1.267622e+02 -1.062212e+02 -4.867530e+01  \n",
      "25%    5.314569e+00  4.427472e+01 -9.364732e-02 -8.388699e-02 -5.797130e-02  \n",
      "50%    2.073915e+01  5.281280e+01  2.409391e-02  2.459701e-02  1.618752e-04  \n",
      "75%    5.402357e+01  6.113436e+01  3.398532e-01  3.283175e-01  6.261144e-02  \n",
      "max    3.298397e+03  1.000000e+02  1.024090e+02  9.379359e+01  4.125656e+01  \n",
      "             NaN Count  Zero Count\n",
      "Date                 0           0\n",
      "Close                0           0\n",
      "High                 0           0\n",
      "Low                  0           0\n",
      "Open                 0           0\n",
      "Volume               0           0\n",
      "Symbol               0           0\n",
      "SMA               1931           0\n",
      "RSI               2086           7\n",
      "MACD              3726           0\n",
      "MACD_signal       4924           0\n",
      "MACD_hist         4924           0\n"
     ]
    }
   ],
   "source": [
    "print_summary(df_with_indicators)"
   ]
  },
  {
   "cell_type": "code",
   "execution_count": 11,
   "id": "f4e7cbdc",
   "metadata": {},
   "outputs": [
    {
     "name": "stdout",
     "output_type": "stream",
     "text": [
      "          Date     Close      High       Low      Open     Volume Symbol  \\\n",
      "0   1980-12-12  0.098834  0.099264  0.098834  0.098834  469033600   AAPL   \n",
      "1   1980-12-15  0.093678  0.094108  0.093678  0.094108  175884800   AAPL   \n",
      "2   1980-12-16  0.086802  0.087232  0.086802  0.087232  105728000   AAPL   \n",
      "3   1980-12-17  0.088951  0.089381  0.088951  0.088951   86441600   AAPL   \n",
      "4   1980-12-18  0.091530  0.091959  0.091530  0.091530   73449600   AAPL   \n",
      "5   1980-12-19  0.097116  0.097545  0.097116  0.097116   48630400   AAPL   \n",
      "6   1980-12-22  0.101842  0.102273  0.101842  0.101842   37363200   AAPL   \n",
      "7   1980-12-23  0.106140  0.106570  0.106140  0.106140   46950400   AAPL   \n",
      "8   1980-12-24  0.111726  0.112156  0.111726  0.111726   48003200   AAPL   \n",
      "9   1980-12-26  0.122039  0.122469  0.122039  0.122039   55574400   AAPL   \n",
      "10  1980-12-29  0.123758  0.124188  0.123758  0.123758   93161600   AAPL   \n",
      "11  1980-12-30  0.120750  0.121180  0.120750  0.121180   68880000   AAPL   \n",
      "12  1980-12-31  0.117313  0.117742  0.117313  0.117742   35750400   AAPL   \n",
      "13  1981-01-02  0.118602  0.119461  0.118602  0.118602   21660800   AAPL   \n",
      "14  1981-01-05  0.116024  0.116453  0.116024  0.116453   35728000   AAPL   \n",
      "15  1981-01-06  0.110867  0.111296  0.110867  0.111296   45158400   AAPL   \n",
      "16  1981-01-07  0.106140  0.106570  0.106140  0.106570   55686400   AAPL   \n",
      "17  1981-01-08  0.103992  0.104421  0.103992  0.104421   39827200   AAPL   \n",
      "18  1981-01-09  0.109577  0.110007  0.109577  0.109577   21504000   AAPL   \n",
      "19  1981-01-12  0.108718  0.109577  0.108718  0.109577   23699200   AAPL   \n",
      "20  1981-01-13  0.104851  0.105281  0.104851  0.105281   23049600   AAPL   \n",
      "21  1981-01-14  0.105281  0.105710  0.105281  0.105281   14291200   AAPL   \n",
      "22  1981-01-15  0.107429  0.108288  0.107429  0.107429   14067200   AAPL   \n",
      "23  1981-01-16  0.106570  0.106999  0.106570  0.106999   13395200   AAPL   \n",
      "24  1981-01-19  0.113015  0.113445  0.113015  0.113015   41574400   AAPL   \n",
      "25  1981-01-20  0.109577  0.110007  0.109577  0.110007   30083200   AAPL   \n",
      "26  1981-01-21  0.111726  0.112585  0.111726  0.111726   15904000   AAPL   \n",
      "27  1981-01-22  0.113015  0.113874  0.113015  0.113015   35548800   AAPL   \n",
      "28  1981-01-23  0.112585  0.113445  0.112585  0.113015   11222400   AAPL   \n",
      "29  1981-01-26  0.110867  0.111296  0.110867  0.111296   24640000   AAPL   \n",
      "30  1981-01-27  0.110007  0.110867  0.110007  0.110867   23699200   AAPL   \n",
      "31  1981-01-28  0.106570  0.106999  0.106570  0.106999   28156800   AAPL   \n",
      "32  1981-01-29  0.102702  0.103132  0.102702  0.103132   43904000   AAPL   \n",
      "33  1981-01-30  0.097116  0.097975  0.097116  0.097975   46188800   AAPL   \n",
      "34  1981-02-02  0.091530  0.091959  0.091530  0.091959   23766400   AAPL   \n",
      "35  1981-02-03  0.094967  0.095397  0.094967  0.094967   19152000   AAPL   \n",
      "36  1981-02-04  0.098405  0.098834  0.098405  0.098405   27865600   AAPL   \n",
      "37  1981-02-05  0.098405  0.099264  0.098405  0.098405    7929600   AAPL   \n",
      "38  1981-02-06  0.098834  0.099264  0.098834  0.098834   13865600   AAPL   \n",
      "39  1981-02-09  0.093678  0.094538  0.093678  0.094538   16755200   AAPL   \n",
      "40  1981-02-10  0.093678  0.094108  0.093678  0.093678   18345600   AAPL   \n",
      "41  1981-02-11  0.090670  0.091100  0.090670  0.091100   13843200   AAPL   \n",
      "42  1981-02-12  0.089810  0.090241  0.089810  0.090241   14560000   AAPL   \n",
      "43  1981-02-13  0.087662  0.088521  0.087662  0.088521   11155200   AAPL   \n",
      "44  1981-02-17  0.089810  0.090241  0.089810  0.089810   12275200   AAPL   \n",
      "45  1981-02-18  0.093678  0.094538  0.093678  0.093678   19241600   AAPL   \n",
      "46  1981-02-19  0.088092  0.088521  0.088092  0.088521   22310400   AAPL   \n",
      "47  1981-02-20  0.083365  0.083795  0.083365  0.083795   24371200   AAPL   \n",
      "48  1981-02-23  0.084654  0.085084  0.084654  0.084654   14112000   AAPL   \n",
      "49  1981-02-24  0.081646  0.082506  0.081646  0.082506   16979200   AAPL   \n",
      "\n",
      "         SMA        RSI      MACD  MACD_signal  MACD_hist  \n",
      "0        NaN        NaN       NaN          NaN        NaN  \n",
      "1        NaN        NaN       NaN          NaN        NaN  \n",
      "2        NaN        NaN       NaN          NaN        NaN  \n",
      "3        NaN        NaN       NaN          NaN        NaN  \n",
      "4        NaN        NaN       NaN          NaN        NaN  \n",
      "5        NaN        NaN       NaN          NaN        NaN  \n",
      "6        NaN        NaN       NaN          NaN        NaN  \n",
      "7        NaN        NaN       NaN          NaN        NaN  \n",
      "8        NaN        NaN       NaN          NaN        NaN  \n",
      "9        NaN        NaN       NaN          NaN        NaN  \n",
      "10       NaN        NaN       NaN          NaN        NaN  \n",
      "11       NaN        NaN       NaN          NaN        NaN  \n",
      "12       NaN        NaN       NaN          NaN        NaN  \n",
      "13  0.105649        NaN       NaN          NaN        NaN  \n",
      "14  0.106876  64.735477       NaN          NaN        NaN  \n",
      "15  0.108104  56.111921       NaN          NaN        NaN  \n",
      "16  0.109485  49.591328       NaN          NaN        NaN  \n",
      "17  0.110560  46.922238       NaN          NaN        NaN  \n",
      "18  0.111849  53.873564       NaN          NaN        NaN  \n",
      "19  0.112678  52.729458       NaN          NaN        NaN  \n",
      "20  0.112893  47.808910       NaN          NaN        NaN  \n",
      "21  0.112831  48.385258       NaN          NaN        NaN  \n",
      "22  0.112524  51.282071       NaN          NaN        NaN  \n",
      "23  0.111419  50.071459       NaN          NaN        NaN  \n",
      "24  0.110652  58.066600       NaN          NaN        NaN  \n",
      "25  0.109854  53.175858  0.001422          NaN        NaN  \n",
      "26  0.109455  55.687935  0.001583          NaN        NaN  \n",
      "27  0.109056  57.172593  0.001794          NaN        NaN  \n",
      "28  0.108810  56.493161  0.001904          NaN        NaN  \n",
      "29  0.108810  53.741973  0.001832          NaN        NaN  \n",
      "30  0.109086  52.368637  0.001686          NaN        NaN  \n",
      "31  0.109271  47.175692  0.001278          NaN        NaN  \n",
      "32  0.108779  42.116061  0.000636          NaN        NaN  \n",
      "33  0.107951  36.093501 -0.000321     0.001313  -0.001633  \n",
      "34  0.106999  31.277502 -0.001512     0.000748  -0.002260  \n",
      "35  0.106263  36.860794 -0.002154     0.000167  -0.002321  \n",
      "36  0.105618  41.940586 -0.002358    -0.000338  -0.002020  \n",
      "37  0.105035  41.940586 -0.002491    -0.000768  -0.001723  \n",
      "38  0.104022  42.609911 -0.002533    -0.001121  -0.001411  \n",
      "39  0.102886  37.084702 -0.002948    -0.001486  -0.001461  \n",
      "40  0.101597  37.084702 -0.003239    -0.001837  -0.001402  \n",
      "41  0.100001  34.093770 -0.003671    -0.002204  -0.001467  \n",
      "42  0.098374  33.267434 -0.004036    -0.002570  -0.001465  \n",
      "43  0.096717  31.231421 -0.004447    -0.002945  -0.001501  \n",
      "44  0.095274  35.483641 -0.004547    -0.003266  -0.001281  \n",
      "45  0.094353  42.390443 -0.004265    -0.003466  -0.000799  \n",
      "46  0.093310  36.339313 -0.004441    -0.003661  -0.000780  \n",
      "47  0.092327  32.156974 -0.004906    -0.003910  -0.000996  \n",
      "48  0.091836  34.375310 -0.005111    -0.004150  -0.000961  \n",
      "49  0.090885  31.765395 -0.005453    -0.004411  -0.001043  \n"
     ]
    }
   ],
   "source": [
    "print(df_with_indicators.head(50))"
   ]
  },
  {
   "cell_type": "code",
   "execution_count": 12,
   "id": "84592128",
   "metadata": {},
   "outputs": [],
   "source": [
    "def clean_dataframe(data):\n",
    "    data = data[(data != 0).all(axis=1)].dropna()\n",
    "    return data\n",
    "\n",
    "# Define pattern recognition functions\n",
    "def is_doji(row):\n",
    "    \"\"\"Detects Doji candlestick pattern.\"\"\"\n",
    "    return abs(row['Close'] - row['Open']) <= 0.1 * (row['High'] - row['Low'])\n",
    "\n",
    "def is_hammer(row):\n",
    "    \"\"\"Detects Hammer candlestick pattern.\"\"\"\n",
    "    body = abs(row['Close'] - row['Open'])\n",
    "    lower_shadow = row['Open'] - row['Low'] if row['Close'] > row['Open'] else row['Close'] - row['Low']\n",
    "    upper_shadow = row['High'] - row['Close'] if row['Close'] > row['Open'] else row['High'] - row['Open']\n",
    "    return lower_shadow > 2 * body and upper_shadow < 0.1 * (row['High'] - row['Low'])\n",
    "\n",
    "def is_shooting_star(row):\n",
    "    \"\"\"Detects Shooting Star candlestick pattern.\"\"\"\n",
    "    body = abs(row['Close'] - row['Open'])\n",
    "    upper_shadow = row['High'] - row['Close'] if row['Close'] > row['Open'] else row['High'] - row['Open']\n",
    "    lower_shadow = row['Open'] - row['Low'] if row['Close'] > row['Open'] else row['Close'] - row['Low']\n",
    "    return upper_shadow > 2 * body and lower_shadow < 0.1 * (row['High'] - row['Low'])\n",
    "\n",
    "def is_bullish_engulfing(row):\n",
    "    return (\n",
    "        (row['Close'] > row['Open']) and\n",
    "        (row['Prev_Close'] < row['Prev_Open']) and\n",
    "        (row['Close'] > row['Prev_Open']) and\n",
    "        (row['Open'] < row['Prev_Close'])\n",
    "    )\n",
    "\n",
    "def is_bearish_engulfing(row):\n",
    "    \"\"\"Detects Bearish Engulfing candlestick pattern.\"\"\"\n",
    "    return (\n",
    "        (row['Close'] < row['Open']) and  # Current candle is bearish\n",
    "        (row['Prev_Close'] > row['Prev_Open']) and  # Previous candle is bullish\n",
    "        (row['Open'] > row['Prev_Close']) and  # Current Open > Previous Close\n",
    "        (row['Close'] < row['Prev_Open'])  # Current Close < Previous Open\n",
    "    )"
   ]
  },
  {
   "cell_type": "code",
   "execution_count": 13,
   "id": "1e7f7f95",
   "metadata": {},
   "outputs": [],
   "source": [
    "df_with_indicators = clean_dataframe(df_with_indicators)"
   ]
  },
  {
   "cell_type": "code",
   "execution_count": 14,
   "id": "c06de55d",
   "metadata": {},
   "outputs": [
    {
     "name": "stderr",
     "output_type": "stream",
     "text": [
      "<ipython-input-6-5817010d4578>:2: UserWarning: Boolean Series key will be reindexed to match DataFrame index.\n",
      "  data = data[(df != 0).all(axis=1)]\n"
     ]
    },
    {
     "name": "stdout",
     "output_type": "stream",
     "text": [
      "<class 'pandas.core.frame.DataFrame'>\n",
      "Index: 1844253 entries, 33 to 1964327\n",
      "Data columns (total 12 columns):\n",
      " #   Column       Dtype  \n",
      "---  ------       -----  \n",
      " 0   Date         object \n",
      " 1   Close        float64\n",
      " 2   High         float64\n",
      " 3   Low          float64\n",
      " 4   Open         float64\n",
      " 5   Volume       int64  \n",
      " 6   Symbol       object \n",
      " 7   SMA          float64\n",
      " 8   RSI          float64\n",
      " 9   MACD         float64\n",
      " 10  MACD_signal  float64\n",
      " 11  MACD_hist    float64\n",
      "dtypes: float64(9), int64(1), object(2)\n",
      "memory usage: 182.9+ MB\n",
      "None\n",
      "              Close          High           Low          Open        Volume  \\\n",
      "count  1.844253e+06  1.844253e+06  1.844253e+06  1.844253e+06  1.844253e+06   \n",
      "mean   5.412539e+01  5.474677e+01  5.347701e+01  5.412197e+01  1.191077e+07   \n",
      "std    1.176282e+02  1.189554e+02  1.162354e+02  1.176278e+02  6.085786e+07   \n",
      "min    2.838714e-03  2.838714e-03  2.616871e-03  2.838712e-03  1.000000e+01   \n",
      "25%    5.346439e+00  5.412871e+00  5.273049e+00  5.343930e+00  1.022899e+06   \n",
      "50%    2.082120e+01  2.109586e+01  2.053720e+01  2.081754e+01  2.613700e+06   \n",
      "75%    5.423751e+01  5.484684e+01  5.362660e+01  5.423819e+01  6.563800e+06   \n",
      "max    3.370270e+03  3.416710e+03  3.345440e+03  3.369000e+03  9.230856e+09   \n",
      "\n",
      "                SMA           RSI          MACD   MACD_signal     MACD_hist  \n",
      "count  1.844253e+06  1.844253e+06  1.844253e+06  1.844253e+06  1.844253e+06  \n",
      "mean   5.395509e+01  5.262383e+01  1.858928e-01  1.862116e-01 -3.187882e-04  \n",
      "std    1.171426e+02  1.200515e+01  2.706058e+00  2.533098e+00  8.392384e-01  \n",
      "min    3.193709e-03  3.292409e-01 -1.267622e+02 -1.062212e+02 -4.867530e+01  \n",
      "25%    5.329917e+00  4.427771e+01 -9.370287e-02 -8.388699e-02 -5.797130e-02  \n",
      "50%    2.077763e+01  5.281427e+01  2.411676e-02  2.459701e-02  1.618752e-04  \n",
      "75%    5.410448e+01  6.113264e+01  3.399704e-01  3.283175e-01  6.261144e-02  \n",
      "max    3.298397e+03  1.000000e+02  1.024090e+02  9.379359e+01  4.125656e+01  \n",
      "             NaN Count  Zero Count\n",
      "Date                 0           0\n",
      "Close                0           0\n",
      "High                 0           0\n",
      "Low                  0           0\n",
      "Open                 0           0\n",
      "Volume               0           0\n",
      "Symbol               0           0\n",
      "SMA                  0           0\n",
      "RSI                  0           0\n",
      "MACD                 0           0\n",
      "MACD_signal          0           0\n",
      "MACD_hist            0           0\n"
     ]
    }
   ],
   "source": [
    "print_summary(df_with_indicators)"
   ]
  },
  {
   "cell_type": "code",
   "execution_count": 15,
   "id": "bf0de9e5",
   "metadata": {},
   "outputs": [],
   "source": [
    "def calculate_shifts(group):\n",
    "    group['Prev_Open'] = group['Open'].shift(1)\n",
    "    group['Prev_Close'] = group['Close'].shift(1)\n",
    "    return group\n",
    "\n",
    "df = df.groupby('Symbol', group_keys=False).apply(calculate_shifts)"
   ]
  },
  {
   "cell_type": "code",
   "execution_count": 16,
   "id": "95b084ae",
   "metadata": {},
   "outputs": [],
   "source": [
    "df['Doji'] = df.apply(is_doji, axis=1)"
   ]
  },
  {
   "cell_type": "code",
   "execution_count": 17,
   "id": "b40b7631",
   "metadata": {},
   "outputs": [],
   "source": [
    "df['Hammer'] = df.apply(is_hammer, axis=1)"
   ]
  },
  {
   "cell_type": "code",
   "execution_count": 18,
   "id": "6088b7b2",
   "metadata": {},
   "outputs": [],
   "source": [
    "df['Shooting_Star'] = df.apply(is_shooting_star, axis=1)"
   ]
  },
  {
   "cell_type": "code",
   "execution_count": 19,
   "id": "249ea005",
   "metadata": {},
   "outputs": [],
   "source": [
    "df['Bullish_Engulfing'] = df.apply(is_bullish_engulfing, axis=1)"
   ]
  },
  {
   "cell_type": "code",
   "execution_count": 20,
   "id": "fe5abfd8",
   "metadata": {},
   "outputs": [],
   "source": [
    "df['Bearish_Engulfing'] = df.apply(is_bearish_engulfing, axis=1)"
   ]
  },
  {
   "cell_type": "code",
   "execution_count": 21,
   "id": "387474fa",
   "metadata": {},
   "outputs": [],
   "source": [
    "def print_result_of(df, column_key):\n",
    "    if column_key not in df.columns:\n",
    "        print(f\"Error: Column '{column_key}' not found in the DataFrame.\")\n",
    "        return\n",
    "    filtered_rows = df[df[column_key] == True]\n",
    "    print(f\"Rows where '{column_key}' is True:\")\n",
    "    print(filtered_rows)"
   ]
  },
  {
   "cell_type": "code",
   "execution_count": 22,
   "id": "e2143d08",
   "metadata": {},
   "outputs": [
    {
     "name": "stdout",
     "output_type": "stream",
     "text": [
      "Rows where 'Doji' is True:\n",
      "               Date       Close        High         Low        Open  \\\n",
      "0        1980-12-12    0.098834    0.099264    0.098834    0.098834   \n",
      "3        1980-12-17    0.088951    0.089381    0.088951    0.088951   \n",
      "4        1980-12-18    0.091530    0.091959    0.091530    0.091530   \n",
      "5        1980-12-19    0.097116    0.097545    0.097116    0.097116   \n",
      "6        1980-12-22    0.101842    0.102273    0.101842    0.101842   \n",
      "...             ...         ...         ...         ...         ...   \n",
      "1964258  2024-09-18  196.015503  197.920991  193.910491  196.334754   \n",
      "1964260  2024-09-20  192.184586  194.090074  190.618305  192.483879   \n",
      "1964275  2024-10-11  189.630646  192.364174  189.251539  189.760343   \n",
      "1964277  2024-10-15  191.935181  195.357080  191.486248  191.825440   \n",
      "1964311  2024-12-03  176.940002  181.399994  176.559998  176.710007   \n",
      "\n",
      "            Volume Symbol   Prev_Open  Prev_Close  Doji  Hammer  \\\n",
      "0        469033600   AAPL         NaN         NaN  True   False   \n",
      "3         86441600   AAPL    0.087232    0.086802  True   False   \n",
      "4         73449600   AAPL    0.088951    0.088951  True   False   \n",
      "5         48630400   AAPL    0.091530    0.091530  True   False   \n",
      "6         37363200   AAPL    0.097116    0.097116  True   False   \n",
      "...            ...    ...         ...         ...   ...     ...   \n",
      "1964258    1993800    ZTS  194.020242  195.247345  True   False   \n",
      "1964260    3520700    ZTS  197.761366  192.783173  True   False   \n",
      "1964275    1819900    ZTS  189.311395  189.830170  True   False   \n",
      "1964277    1414600    ZTS  189.710461  192.194565  True   False   \n",
      "1964311    2679000    ZTS  175.779999  176.809998  True   False   \n",
      "\n",
      "         Shooting_Star  Bullish_Engulfing  Bearish_Engulfing  \n",
      "0                 True              False              False  \n",
      "3                 True              False              False  \n",
      "4                 True              False              False  \n",
      "5                 True              False              False  \n",
      "6                 True              False              False  \n",
      "...                ...                ...                ...  \n",
      "1964258          False              False              False  \n",
      "1964260          False              False              False  \n",
      "1964275          False              False              False  \n",
      "1964277           True              False              False  \n",
      "1964311           True              False              False  \n",
      "\n",
      "[219495 rows x 14 columns]\n"
     ]
    }
   ],
   "source": [
    "print_result_of(df, 'Doji')"
   ]
  },
  {
   "cell_type": "code",
   "execution_count": 23,
   "id": "ef70fa1d",
   "metadata": {},
   "outputs": [
    {
     "name": "stdout",
     "output_type": "stream",
     "text": [
      "All files processed and combined into 'ta_candles_data.csv'\n"
     ]
    }
   ],
   "source": [
    "# Save the combined DataFrame to a new CSV file\n",
    "df.to_csv('ta_candles_data.csv')\n",
    "\n",
    "print(\"All files processed and combined into 'ta_candles_data.csv'\")"
   ]
  },
  {
   "cell_type": "markdown",
   "id": "626a7bdf",
   "metadata": {},
   "source": [
    "# Categorization Data as per Advise of JURY in Thesis-I"
   ]
  },
  {
   "cell_type": "code",
   "execution_count": 13,
   "id": "bd35e21b",
   "metadata": {},
   "outputs": [],
   "source": [
    "# Your list of stock symbols\n",
    "\n",
    "# Function to get sector, industry, and name for a symbol\n",
    "def get_symbol_category(symbol):\n",
    "    try:\n",
    "        stock = yf.Ticker(symbol)\n",
    "        info = stock.info\n",
    "        return {\n",
    "            'Symbol': symbol,\n",
    "            'Sector': info.get('sector', 'N/A'),\n",
    "            'Industry': info.get('industry', 'N/A'),\n",
    "            'Full Name': info.get('longName', 'N/A')\n",
    "        }\n",
    "    except Exception as e:\n",
    "        print(f\"Error fetching data for {symbol}: {e}\")\n",
    "        return {\n",
    "            'Symbol': symbol,\n",
    "            'Sector': 'Error',\n",
    "            'Industry': 'Error',\n",
    "            'Full Name': 'Error'\n",
    "        }"
   ]
  },
  {
   "cell_type": "code",
   "execution_count": 19,
   "id": "42fd1c62",
   "metadata": {},
   "outputs": [],
   "source": [
    "# Initialize client with your API key\n",
    "api_key = \"d02ajb1r01qt2u331030d02ajb1r01qt2u33103g\"  # Replace with your actual Finnhub API key\n",
    "finnhub_client = finnhub.Client(api_key=api_key)\n",
    "\n",
    "# Function to get profile data (sector/industry info)\n",
    "def get_finnhub_profile(symbol):\n",
    "    try:\n",
    "        profile = finnhub_client.company_profile2(symbol=symbol)\n",
    "        return {\n",
    "            'Symbol': symbol,\n",
    "            'Name': profile.get('name', 'N/A'),\n",
    "            'Exchange': profile.get('exchange', 'N/A'),\n",
    "            'Sector': profile.get('finnhubIndustry', 'N/A'),\n",
    "            'Website': profile.get('weburl', 'N/A'),\n",
    "            'Country': profile.get('country', 'N/A')\n",
    "        }\n",
    "    except Exception as e:\n",
    "        print(f\"❌ Error with {symbol}: {e}\")\n",
    "        return {\n",
    "            'Symbol': symbol,\n",
    "            'Name': 'Error',\n",
    "            'Exchange': 'Error',\n",
    "            'Sector': 'Error',\n",
    "            'Website': 'Error',\n",
    "            'Country': 'Error'\n",
    "        }\n"
   ]
  },
  {
   "cell_type": "code",
   "execution_count": 24,
   "id": "5dd08a86",
   "metadata": {},
   "outputs": [
    {
     "name": "stdout",
     "output_type": "stream",
     "text": [
      "⏳ Fetching T...\n",
      "⏳ Fetching MA...\n",
      "⏳ Fetching VRTX...\n",
      "⏳ Fetching DIS...\n",
      "⏳ Fetching AXP...\n",
      "⏳ Fetching FDX...\n",
      "⏳ Fetching ICE...\n",
      "⏳ Fetching DRI...\n",
      "⏳ Fetching TDOC...\n",
      "⏳ Fetching HSBC...\n",
      "⏳ Fetching BABA...\n",
      "⏳ Fetching VZ...\n",
      "⏳ Fetching DOW...\n",
      "⏳ Fetching ASML...\n",
      "⏳ Fetching CHTR...\n",
      "⏳ Fetching NVAX...\n",
      "⏳ Fetching JPM...\n",
      "⏳ Fetching LPL...\n",
      "⏳ Fetching CLX...\n",
      "⏳ Fetching TXN...\n",
      "⏳ Fetching LYV...\n",
      "⏳ Fetching EL...\n",
      "⏳ Fetching TT...\n",
      "⏳ Fetching GOOG...\n",
      "⏳ Fetching MGM...\n",
      "⏳ Fetching PNC...\n",
      "⏳ Fetching SQ...\n",
      "⏳ Fetching AAPL...\n",
      "⏳ Fetching ZION...\n",
      "⏳ Fetching MMM...\n",
      "⏳ Fetching ANET...\n",
      "⏳ Fetching FIS...\n",
      "⏳ Fetching HUM...\n",
      "⏳ Fetching FISV...\n",
      "⏳ Fetching LULU...\n",
      "⏳ Fetching PFE...\n",
      "⏳ Fetching SBAC...\n",
      "⏳ Fetching LUV...\n",
      "⏳ Fetching PGR...\n",
      "⏳ Fetching CL...\n",
      "⏳ Fetching REIT...\n",
      "⏳ Fetching ABT...\n",
      "⏳ Fetching HSY...\n",
      "⏳ Fetching FCX...\n",
      "⏳ Fetching VMC...\n",
      "⏳ Fetching MO...\n",
      "⏳ Fetching PSA...\n",
      "⏳ Fetching SPG...\n",
      "⏳ Fetching EPD...\n",
      "⏳ Fetching ROST...\n",
      "⏳ Fetching VTR...\n",
      "⏳ Fetching DE...\n",
      "⏳ Fetching CCL...\n",
      "⏳ Fetching MET...\n",
      "⏳ Fetching GS...\n",
      "⏳ Fetching YUM...\n",
      "⏳ Fetching PLD...\n",
      "⏳ Fetching ADI...\n",
      "⏳ Fetching TFC...\n",
      "⏳ Fetching GPC...\n",
      "⏳ Fetching V...\n",
      "⏳ Fetching STT...\n",
      "⏳ Fetching CAT...\n",
      "⏳ Fetching XEL...\n",
      "⏳ Fetching UAL...\n",
      "⏳ Fetching CDW...\n",
      "⏳ Fetching BAX...\n",
      "⏳ Fetching NXPI...\n",
      "⏳ Fetching MMC...\n",
      "⏳ Fetching APD...\n",
      "⏳ Fetching NVDA...\n",
      "⏳ Fetching SLB...\n",
      "⏳ Fetching ISRG...\n",
      "⏳ Fetching GM...\n",
      "⏳ Fetching NDAQ...\n",
      "⏳ Fetching QCOM...\n",
      "⏳ Fetching COST...\n",
      "⏳ Fetching FTI...\n",
      "⏳ Fetching AVGO...\n",
      "⏳ Fetching DISH...\n",
      "⏳ Fetching NKE...\n",
      "⏳ Fetching CSX...\n",
      "⏳ Fetching RCL...\n",
      "⏳ Fetching WDC...\n",
      "⏳ Fetching HPE...\n",
      "⏳ Fetching REGN...\n",
      "⏳ Fetching BASF...\n",
      "⏳ Fetching FB...\n",
      "⏳ Fetching STZ...\n",
      "⏳ Fetching INTC...\n",
      "⏳ Fetching BLK...\n",
      "⏳ Fetching SBUX...\n",
      "⏳ Fetching KO...\n",
      "⏳ Fetching RTX...\n",
      "⏳ Fetching GE...\n",
      "⏳ Fetching ACN...\n",
      "⏳ Fetching NOC...\n",
      "⏳ Fetching NTRS...\n",
      "⏳ Fetching BDX...\n",
      "⏳ Fetching AMD...\n",
      "⏳ Fetching CME...\n",
      "⏳ Fetching BA...\n",
      "⏳ Fetching CB...\n",
      "⏳ Fetching CSCO...\n",
      "⏳ Fetching TGT...\n",
      "⏳ Fetching SWKS...\n",
      "⏳ Fetching SIVB...\n",
      "⏳ Fetching LRCX...\n",
      "⏳ Fetching PSX...\n",
      "⏳ Fetching BMY...\n",
      "⏳ Fetching ZM...\n",
      "⏳ Fetching AZO...\n",
      "⏳ Fetching WFC...\n",
      "⏳ Fetching XOM...\n",
      "⏳ Fetching OKE...\n",
      "⏳ Fetching MTD...\n",
      "⏳ Fetching MNST...\n",
      "⏳ Fetching CGC...\n",
      "⏳ Fetching FTNT...\n",
      "⏳ Fetching NRG...\n",
      "⏳ Fetching ABBV...\n",
      "⏳ Fetching QQQ...\n",
      "⏳ Fetching MSCI...\n",
      "⏳ Fetching MSFT...\n",
      "⏳ Fetching CTSH...\n",
      "⏳ Fetching MDLZ...\n",
      "⏳ Fetching ALGN...\n",
      "⏳ Fetching MPWR...\n",
      "⏳ Fetching CI...\n",
      "⏳ Fetching HD...\n",
      "⏳ Fetching CRM...\n",
      "⏳ Fetching COP...\n",
      "⏳ Fetching DGX...\n",
      "⏳ Fetching GILD...\n",
      "⏳ Fetching ORCL...\n",
      "⏳ Fetching AMAT...\n",
      "⏳ Fetching ETSY...\n",
      "⏳ Fetching ETN...\n",
      "⏳ Fetching HLT...\n",
      "⏳ Fetching NVIDIA...\n",
      "⏳ Fetching PG...\n",
      "⏳ Fetching CNC...\n",
      "⏳ Fetching KMB...\n",
      "⏳ Fetching SPGI...\n",
      "⏳ Fetching NEM...\n",
      "⏳ Fetching PPL...\n",
      "⏳ Fetching REXR...\n",
      "⏳ Fetching TMO...\n",
      "⏳ Fetching ZTS...\n",
      "⏳ Fetching DD...\n",
      "⏳ Fetching JCI...\n",
      "⏳ Fetching AMGN...\n",
      "⏳ Fetching WMT...\n",
      "⏳ Fetching LPLA...\n",
      "⏳ Fetching IBM...\n",
      "⏳ Fetching JNJ...\n",
      "⏳ Fetching AXON...\n",
      "⏳ Fetching BIIB...\n",
      "⏳ Fetching AEP...\n",
      "⏳ Fetching CRWD...\n",
      "⏳ Fetching WBA...\n",
      "⏳ Fetching PRGO...\n",
      "⏳ Fetching MCO...\n",
      "⏳ Fetching MS...\n",
      "⏳ Fetching EXPE...\n",
      "⏳ Fetching JBLU...\n",
      "⏳ Fetching SHW...\n",
      "⏳ Fetching BBY...\n",
      "⏳ Fetching TRV...\n",
      "⏳ Fetching NFLX...\n",
      "⏳ Fetching PEP...\n",
      "⏳ Fetching DUK...\n",
      "⏳ Fetching AMZN...\n",
      "⏳ Fetching KHC...\n",
      "⏳ Fetching NEE...\n",
      "⏳ Fetching UPS...\n",
      "⏳ Fetching TDG...\n",
      "⏳ Fetching MRK...\n",
      "⏳ Fetching CHKP...\n",
      "⏳ Fetching MCK...\n",
      "⏳ Fetching PCLN...\n",
      "⏳ Fetching UNH...\n",
      "⏳ Fetching CVX...\n",
      "⏳ Fetching NAVI...\n",
      "⏳ Fetching EQT...\n",
      "⏳ Fetching SYY...\n",
      "⏳ Fetching TSLA...\n",
      "⏳ Fetching ALXN...\n",
      "⏳ Fetching MCD...\n",
      "⏳ Fetching AON...\n",
      "⏳ Fetching WELL...\n",
      "⏳ Fetching F...\n",
      "⏳ Fetching SPY...\n",
      "⏳ Fetching CVS...\n",
      "⏳ Fetching AIG...\n",
      "⏳ Fetching ZBH...\n",
      "⏳ Fetching BIDU...\n",
      "⏳ Fetching IBB...\n",
      "⏳ Fetching GIS...\n",
      "⏳ Fetching BRK.A...\n",
      "⏳ Fetching LLY...\n",
      "⏳ Fetching GOOGL...\n",
      "⏳ Fetching DHR...\n",
      "⏳ Fetching PRU...\n",
      "⏳ Fetching PYPL...\n",
      "⏳ Fetching LOW...\n",
      "⏳ Fetching CTXS...\n",
      "⏳ Fetching TSN...\n",
      "⏳ Fetching SYK...\n",
      "⏳ Fetching ADBE...\n",
      "⏳ Fetching PXD...\n",
      "⏳ Fetching EOG...\n",
      "⏳ Fetching HCA...\n",
      "⏳ Fetching AMT...\n",
      "⏳ Fetching OXY...\n",
      "⏳ Fetching LMT...\n",
      "⏳ Fetching CGNX...\n",
      "⏳ Fetching ADP...\n",
      "⏳ Fetching META...\n",
      "⏳ Fetching COF...\n",
      "⏳ Fetching FMC...\n",
      "⏳ Fetching MELI...\n",
      "⏳ Fetching EXC...\n",
      "⏳ Fetching BRK.B...\n",
      "⏳ Fetching HOG...\n",
      "⏳ Fetching TAP...\n",
      "⏳ Fetching VNO...\n",
      "⏳ Fetching ADM...\n",
      "⏳ Fetching C...\n",
      "⏳ Fetching EQIX...\n",
      "⏳ Fetching VLO...\n",
      "⏳ Fetching NSC...\n",
      "⏳ Fetching PHM...\n",
      "⏳ Fetching MDT...\n"
     ]
    }
   ],
   "source": [
    "results = []\n",
    "requests_sent = 0\n",
    "start_time = time.time()\n",
    "\n",
    "for i, symbol in enumerate(stock_symbols_unique):\n",
    "    print(f\"⏳ Fetching {symbol}...\")\n",
    "    results.append(get_finnhub_profile(symbol))\n",
    "    requests_sent += 1\n",
    "\n",
    "    # Check if we hit the 50-request limit\n",
    "    if requests_sent == 55:\n",
    "        elapsed = time.time() - start_time\n",
    "        if elapsed < 60:\n",
    "            wait_time = 60 - elapsed\n",
    "            print(f\"⏸️ Hit 55 requests. Waiting {wait_time:.2f} seconds to reset...\")\n",
    "            time.sleep(wait_time)\n",
    "        # Reset counters\n",
    "        start_time = time.time()\n",
    "        requests_sent = 0\n",
    "    else:\n",
    "        time.sleep(1)  # Regular spacing between requests"
   ]
  },
  {
   "cell_type": "code",
   "execution_count": 26,
   "id": "62338bc4",
   "metadata": {},
   "outputs": [
    {
     "name": "stdout",
     "output_type": "stream",
     "text": [
      "\n",
      "✅ Stock categories saved to: symbol_categories.csv\n"
     ]
    }
   ],
   "source": [
    "df_categories = pd.DataFrame(results)\n",
    "\n",
    "# Save to CSV\n",
    "csv_filename = \"symbol_categories.csv\"\n",
    "df_categories.to_csv(csv_filename, index=False)\n",
    "\n",
    "print(f\"\\n✅ Stock categories saved to: {csv_filename}\")\n"
   ]
  },
  {
   "cell_type": "code",
   "execution_count": 12,
   "id": "59c951c3",
   "metadata": {},
   "outputs": [
    {
     "data": {
      "text/plain": [
       "[]"
      ]
     },
     "execution_count": 12,
     "metadata": {},
     "output_type": "execute_result"
    }
   ],
   "source": [
    "df_categories = pd.DataFrame(results)\n",
    "\n",
    "# Save to CSV\n",
    "csv_filename = \"symbol_categories.csv\"\n",
    "df_categories.to_csv(csv_filename, index=False)\n",
    "\n",
    "print(f\"\\n✅ Stock categories saved to: {csv_filename}\")\n"
   ]
  },
  {
   "cell_type": "code",
   "execution_count": 37,
   "id": "db414092",
   "metadata": {},
   "outputs": [
    {
     "name": "stdout",
     "output_type": "stream",
     "text": [
      "📊 Symbol Count by Sector:\n",
      "\n",
      "Sector\n",
      "Misc                              21\n",
      "Financial Services                21\n",
      "Health Care                       17\n",
      "N/A                               15\n",
      "Technology                        14\n",
      "Retail                            14\n",
      "Semiconductors                    13\n",
      "Energy                            12\n",
      "Real Estate                       10\n",
      "Hotels, Restaurants & Leisure      9\n",
      "Insurance                          8\n",
      "Media                              8\n",
      "Pharmaceuticals                    8\n",
      "Biotechnology                      7\n",
      "Banking                            7\n",
      "Utilities                          7\n",
      "Aerospace & Defense                7\n",
      "Consumer products                  6\n",
      "Food Products                      6\n",
      "Chemicals                          5\n",
      "Beverages                          5\n",
      "Electrical Equipment               4\n",
      "Automobiles                        4\n",
      "Airlines                           3\n",
      "Life Sciences Tools & Services     3\n",
      "Name: count, dtype: int64\n"
     ]
    }
   ],
   "source": [
    "# Print sector-wise counts\n",
    "# Step 1: Count sector occurrences\n",
    "sector_counts = df_categories['Sector'].value_counts()\n",
    "\n",
    "# Step 2: Identify sectors with < 3 symbols\n",
    "rare_sectors = sector_counts[sector_counts < 3].index\n",
    "\n",
    "# Step 3: Replace those with \"Misc\"\n",
    "df_categories['Sector'] = df_categories['Sector'].apply(lambda x: 'Misc' if x in rare_sectors else x)\n",
    "\n",
    "\n",
    "sector_counts = df_categories['Sector'].value_counts()\n",
    "print(\"📊 Symbol Count by Sector:\\n\")\n",
    "print(sector_counts)\n"
   ]
  },
  {
   "cell_type": "code",
   "execution_count": 42,
   "id": "79b87280",
   "metadata": {},
   "outputs": [],
   "source": [
    "# Read the CSV file into a DataFrame\n",
    "df = []\n",
    "df = pd.read_csv('ta_candles_data.csv')\n",
    "df = df.merge(df_categories[['Symbol', 'Sector']], on='Symbol', how='left')\n",
    "# Optional: display the first few rows\n",
    "\n",
    "# Save to CSV\n",
    "csv_filename = \"ta_processed_with_categories.csv\"\n",
    "df.to_csv(csv_filename, index=False)"
   ]
  },
  {
   "cell_type": "code",
   "execution_count": 66,
   "id": "cb4800f4",
   "metadata": {},
   "outputs": [],
   "source": [
    "# Read the CSV file into a DataFrame\n",
    "df = []\n",
    "df = pd.read_csv('ta_processed_with_categories.csv')\n",
    "# Optional: display the first few rows"
   ]
  },
  {
   "cell_type": "code",
   "execution_count": 67,
   "id": "5fa6b3fd",
   "metadata": {},
   "outputs": [
    {
     "data": {
      "text/html": [
       "<div>\n",
       "<style scoped>\n",
       "    .dataframe tbody tr th:only-of-type {\n",
       "        vertical-align: middle;\n",
       "    }\n",
       "\n",
       "    .dataframe tbody tr th {\n",
       "        vertical-align: top;\n",
       "    }\n",
       "\n",
       "    .dataframe thead th {\n",
       "        text-align: right;\n",
       "    }\n",
       "</style>\n",
       "<table border=\"1\" class=\"dataframe\">\n",
       "  <thead>\n",
       "    <tr style=\"text-align: right;\">\n",
       "      <th></th>\n",
       "      <th>Unnamed: 0</th>\n",
       "      <th>Date</th>\n",
       "      <th>Close</th>\n",
       "      <th>High</th>\n",
       "      <th>Low</th>\n",
       "      <th>Open</th>\n",
       "      <th>Volume</th>\n",
       "      <th>Symbol</th>\n",
       "      <th>Prev_Open</th>\n",
       "      <th>Prev_Close</th>\n",
       "      <th>Doji</th>\n",
       "      <th>Hammer</th>\n",
       "      <th>Shooting_Star</th>\n",
       "      <th>Bullish_Engulfing</th>\n",
       "      <th>Bearish_Engulfing</th>\n",
       "      <th>Sector</th>\n",
       "    </tr>\n",
       "  </thead>\n",
       "  <tbody>\n",
       "    <tr>\n",
       "      <th>0</th>\n",
       "      <td>0</td>\n",
       "      <td>1980-12-12</td>\n",
       "      <td>0.098834</td>\n",
       "      <td>0.099264</td>\n",
       "      <td>0.098834</td>\n",
       "      <td>0.098834</td>\n",
       "      <td>469033600</td>\n",
       "      <td>AAPL</td>\n",
       "      <td>NaN</td>\n",
       "      <td>NaN</td>\n",
       "      <td>True</td>\n",
       "      <td>False</td>\n",
       "      <td>True</td>\n",
       "      <td>False</td>\n",
       "      <td>False</td>\n",
       "      <td>Technology</td>\n",
       "    </tr>\n",
       "    <tr>\n",
       "      <th>1</th>\n",
       "      <td>1</td>\n",
       "      <td>1980-12-15</td>\n",
       "      <td>0.093678</td>\n",
       "      <td>0.094108</td>\n",
       "      <td>0.093678</td>\n",
       "      <td>0.094108</td>\n",
       "      <td>175884800</td>\n",
       "      <td>AAPL</td>\n",
       "      <td>0.098834</td>\n",
       "      <td>0.098834</td>\n",
       "      <td>False</td>\n",
       "      <td>False</td>\n",
       "      <td>False</td>\n",
       "      <td>False</td>\n",
       "      <td>False</td>\n",
       "      <td>Technology</td>\n",
       "    </tr>\n",
       "    <tr>\n",
       "      <th>2</th>\n",
       "      <td>2</td>\n",
       "      <td>1980-12-16</td>\n",
       "      <td>0.086802</td>\n",
       "      <td>0.087232</td>\n",
       "      <td>0.086802</td>\n",
       "      <td>0.087232</td>\n",
       "      <td>105728000</td>\n",
       "      <td>AAPL</td>\n",
       "      <td>0.094108</td>\n",
       "      <td>0.093678</td>\n",
       "      <td>False</td>\n",
       "      <td>False</td>\n",
       "      <td>False</td>\n",
       "      <td>False</td>\n",
       "      <td>False</td>\n",
       "      <td>Technology</td>\n",
       "    </tr>\n",
       "    <tr>\n",
       "      <th>3</th>\n",
       "      <td>3</td>\n",
       "      <td>1980-12-17</td>\n",
       "      <td>0.088951</td>\n",
       "      <td>0.089381</td>\n",
       "      <td>0.088951</td>\n",
       "      <td>0.088951</td>\n",
       "      <td>86441600</td>\n",
       "      <td>AAPL</td>\n",
       "      <td>0.087232</td>\n",
       "      <td>0.086802</td>\n",
       "      <td>True</td>\n",
       "      <td>False</td>\n",
       "      <td>True</td>\n",
       "      <td>False</td>\n",
       "      <td>False</td>\n",
       "      <td>Technology</td>\n",
       "    </tr>\n",
       "    <tr>\n",
       "      <th>4</th>\n",
       "      <td>4</td>\n",
       "      <td>1980-12-18</td>\n",
       "      <td>0.091530</td>\n",
       "      <td>0.091959</td>\n",
       "      <td>0.091530</td>\n",
       "      <td>0.091530</td>\n",
       "      <td>73449600</td>\n",
       "      <td>AAPL</td>\n",
       "      <td>0.088951</td>\n",
       "      <td>0.088951</td>\n",
       "      <td>True</td>\n",
       "      <td>False</td>\n",
       "      <td>True</td>\n",
       "      <td>False</td>\n",
       "      <td>False</td>\n",
       "      <td>Technology</td>\n",
       "    </tr>\n",
       "  </tbody>\n",
       "</table>\n",
       "</div>"
      ],
      "text/plain": [
       "   Unnamed: 0        Date     Close      High       Low      Open     Volume  \\\n",
       "0           0  1980-12-12  0.098834  0.099264  0.098834  0.098834  469033600   \n",
       "1           1  1980-12-15  0.093678  0.094108  0.093678  0.094108  175884800   \n",
       "2           2  1980-12-16  0.086802  0.087232  0.086802  0.087232  105728000   \n",
       "3           3  1980-12-17  0.088951  0.089381  0.088951  0.088951   86441600   \n",
       "4           4  1980-12-18  0.091530  0.091959  0.091530  0.091530   73449600   \n",
       "\n",
       "  Symbol  Prev_Open  Prev_Close   Doji  Hammer  Shooting_Star  \\\n",
       "0   AAPL        NaN         NaN   True   False           True   \n",
       "1   AAPL   0.098834    0.098834  False   False          False   \n",
       "2   AAPL   0.094108    0.093678  False   False          False   \n",
       "3   AAPL   0.087232    0.086802   True   False           True   \n",
       "4   AAPL   0.088951    0.088951   True   False           True   \n",
       "\n",
       "   Bullish_Engulfing  Bearish_Engulfing      Sector  \n",
       "0              False              False  Technology  \n",
       "1              False              False  Technology  \n",
       "2              False              False  Technology  \n",
       "3              False              False  Technology  \n",
       "4              False              False  Technology  "
      ]
     },
     "execution_count": 67,
     "metadata": {},
     "output_type": "execute_result"
    }
   ],
   "source": [
    "df.head()"
   ]
  },
  {
   "cell_type": "markdown",
   "id": "98e2d915",
   "metadata": {},
   "source": [
    "# Calculating Relevant Technical Indicators "
   ]
  },
  {
   "cell_type": "code",
   "execution_count": 74,
   "id": "f2b1feae",
   "metadata": {},
   "outputs": [],
   "source": [
    "def calculate_technical_indicators_by_symbol(df, symbol_col='Symbol', window=3):\n",
    "    \"\"\"\n",
    "    Calculate technical indicators for each stock symbol in a DataFrame with OHLC data.\n",
    "    \n",
    "    Args:\n",
    "        df (pd.DataFrame): DataFrame with columns [symbol_col, 'open', 'high', 'low', 'close', 'volume'].\n",
    "        symbol_col (str): Name of the column containing stock symbols (default='symbol').\n",
    "        window (int): Lookback window for indicators (default=3 days).\n",
    "    \n",
    "    Returns:\n",
    "        pd.DataFrame: Original DataFrame with technical indicators added, grouped by symbol.\n",
    "    \"\"\"\n",
    "    required_cols = [symbol_col, 'Open', 'High', 'Low', 'Close', 'Volume']\n",
    "    if not all(col in df.columns for col in required_cols):\n",
    "        raise ValueError(f\"DataFrame must contain columns: {required_cols}\")\n",
    "\n",
    "    # Group by symbol and apply indicators\n",
    "    def _calculate_indicators(group):\n",
    "        group = group.copy()\n",
    "        \n",
    "        # --- Moving Averages ---\n",
    "        group['ema_12'] = ta.ema(group['Close'], length=12)\n",
    "        group['ema_26'] = ta.ema(group['Close'], length=26)\n",
    "        group['ema_short'] = ta.ema(group['Close'], length=window)\n",
    "        \n",
    "        # --- MACD ---\n",
    "        macd = ta.macd(group['Close'], fast=12, slow=26, signal=9)\n",
    "        group = pd.concat([group, macd], axis=1)  # Adds MACD_12_26_9, MACDs_12_26_9, MACDh_12_26_9\n",
    "        \n",
    "        # --- RSI ---\n",
    "        group['rsi'] = ta.rsi(group['Close'], length=window)\n",
    "        \n",
    "        # --- Bollinger Bands ---\n",
    "        bb = ta.bbands(group['Close'], length=window, std=2)\n",
    "        group = pd.concat([group, bb], axis=1)  # Adds BBU, BBM, BBL\n",
    "        \n",
    "        # --- ATR ---\n",
    "        group['atr'] = ta.atr(group['High'], group['Low'], group['Close'], length=window)\n",
    "        \n",
    "        # --- OBV ---\n",
    "        group['obv'] = ta.obv(group['Close'], group['Volume'])\n",
    "        \n",
    "        # --- VWAP (Rolling approximation) ---\n",
    "        typical_price = (group['High'] + group['Low'] + group['Close']) / 3\n",
    "        group['vwap'] = (typical_price * group['Volume']).rolling(window).sum() / group['Volume'].rolling(window).sum()\n",
    "        \n",
    "        return group\n",
    "\n",
    "    # Apply to each symbol group and combine results\n",
    "    df_with_indicators = df.groupby(symbol_col, group_keys=False).apply(_calculate_indicators)\n",
    "    \n",
    "    return df_with_indicators"
   ]
  },
  {
   "cell_type": "code",
   "execution_count": 75,
   "id": "6415e9aa",
   "metadata": {},
   "outputs": [],
   "source": [
    "df_with_indicators = calculate_technical_indicators_by_symbol(df, symbol_col='Symbol', window=3)"
   ]
  },
  {
   "cell_type": "code",
   "execution_count": 77,
   "id": "241b0ef5",
   "metadata": {},
   "outputs": [
    {
     "name": "stdout",
     "output_type": "stream",
     "text": [
      "['Unnamed: 0', 'Date', 'Close', 'High', 'Low', 'Open', 'Volume', 'Symbol', 'Prev_Open', 'Prev_Close', 'Doji', 'Hammer', 'Shooting_Star', 'Bullish_Engulfing', 'Bearish_Engulfing', 'Sector', 'ema_12', 'ema_26', 'ema_short', 'MACD_12_26_9', 'MACDh_12_26_9', 'MACDs_12_26_9', 'rsi', 'BBL_3_2.0', 'BBM_3_2.0', 'BBU_3_2.0', 'BBB_3_2.0', 'BBP_3_2.0', 'atr', 'obv', 'vwap']\n"
     ]
    }
   ],
   "source": [
    "print(df_with_indicators.columns.tolist())"
   ]
  },
  {
   "cell_type": "code",
   "execution_count": 78,
   "id": "f53a64b8",
   "metadata": {},
   "outputs": [],
   "source": [
    "# Save to CSV\n",
    "csv_filename = \"new_data_set_all_indicator.csv\"\n",
    "df_with_indicators.to_csv(csv_filename, index=False)"
   ]
  },
  {
   "cell_type": "markdown",
   "id": "0fa2a19d",
   "metadata": {},
   "source": [
    "# CONTINUE FROM HERE ABOVE DATA HAS BEEN PERSISTED"
   ]
  },
  {
   "cell_type": "code",
   "execution_count": 4,
   "id": "b7a95d89",
   "metadata": {},
   "outputs": [],
   "source": [
    "# Read the CSV file into a DataFrame\n",
    "df = []\n",
    "df = pd.read_csv('new_data_set_all_indicator.csv')\n",
    "# Optional: display the first few rows"
   ]
  },
  {
   "cell_type": "code",
   "execution_count": 7,
   "id": "a3c3e42e",
   "metadata": {},
   "outputs": [
    {
     "name": "stdout",
     "output_type": "stream",
     "text": [
      "<class 'pandas.core.frame.DataFrame'>\n",
      "RangeIndex: 1964328 entries, 0 to 1964327\n",
      "Data columns (total 31 columns):\n",
      " #   Column             Dtype  \n",
      "---  ------             -----  \n",
      " 0   Unnamed: 0         int64  \n",
      " 1   Date               object \n",
      " 2   Close              float64\n",
      " 3   High               float64\n",
      " 4   Low                float64\n",
      " 5   Open               float64\n",
      " 6   Volume             int64  \n",
      " 7   Symbol             object \n",
      " 8   Prev_Open          float64\n",
      " 9   Prev_Close         float64\n",
      " 10  Doji               bool   \n",
      " 11  Hammer             bool   \n",
      " 12  Shooting_Star      bool   \n",
      " 13  Bullish_Engulfing  bool   \n",
      " 14  Bearish_Engulfing  bool   \n",
      " 15  Sector             object \n",
      " 16  ema_12             float64\n",
      " 17  ema_26             float64\n",
      " 18  ema_short          float64\n",
      " 19  MACD_12_26_9       float64\n",
      " 20  MACDh_12_26_9      float64\n",
      " 21  MACDs_12_26_9      float64\n",
      " 22  rsi                float64\n",
      " 23  BBL_3_2.0          float64\n",
      " 24  BBM_3_2.0          float64\n",
      " 25  BBU_3_2.0          float64\n",
      " 26  BBB_3_2.0          float64\n",
      " 27  BBP_3_2.0          float64\n",
      " 28  atr                float64\n",
      " 29  obv                float64\n",
      " 30  vwap               float64\n",
      "dtypes: bool(5), float64(21), int64(2), object(3)\n",
      "memory usage: 399.0+ MB\n"
     ]
    }
   ],
   "source": [
    "df.info()"
   ]
  },
  {
   "cell_type": "code",
   "execution_count": null,
   "id": "0894e28e",
   "metadata": {},
   "outputs": [],
   "source": []
  }
 ],
 "metadata": {
  "celltoolbar": "Raw Cell Format",
  "kernelspec": {
   "display_name": "Python 3",
   "language": "python",
   "name": "python3"
  },
  "language_info": {
   "codemirror_mode": {
    "name": "ipython",
    "version": 3
   },
   "file_extension": ".py",
   "mimetype": "text/x-python",
   "name": "python",
   "nbconvert_exporter": "python",
   "pygments_lexer": "ipython3",
   "version": "3.8.8"
  }
 },
 "nbformat": 4,
 "nbformat_minor": 5
}
